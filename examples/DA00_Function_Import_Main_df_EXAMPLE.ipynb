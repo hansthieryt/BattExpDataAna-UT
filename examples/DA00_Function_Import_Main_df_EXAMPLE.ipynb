{
 "cells": [
  {
   "cell_type": "markdown",
   "id": "dec8ef23",
   "metadata": {},
   "source": [
    "# DA00_Function_Import_Main_df\n",
    "\n",
    "This notebook demonstrates the execution of `DA00_Function_Import_Main_df.py`.\n",
    "\n",
    "We will go step by step through its functions, explaining their usage with examples."
   ]
  },
  {
   "cell_type": "markdown",
   "id": "f6cc7aeb",
   "metadata": {},
   "source": [
    "-*- coding: utf-8 -*-"
   ]
  },
  {
   "cell_type": "markdown",
   "id": "b0754280",
   "metadata": {},
   "source": [
    "\n"
   ]
  },
  {
   "cell_type": "code",
   "execution_count": null,
   "id": "2e944d27",
   "metadata": {},
   "outputs": [],
   "source": [
    "Code for automated data preprocessing\n",
    "Import\n",
    "Sorting data\n",
    "    - Group by cycle\n",
    "    - 1. VvsCap / CC-Ch and CV-Ch combined and separeted from CC-Dch\n",
    "    - 2. CapvsCyc incl. CE\n",
    "    - 3. dqdVvsV \n",
    "    - 4. Curvst in CV steps\n",
    "Export\n",
    "\n",
    "\n",
    "Code Structure:\n",
    "1. Main\n",
    "    2. DA00: Data Import, Dataframe creation, grouping\n",
    "3. DA01: Plot & analysis of Voltage and Current to Time\n",
    "4. DA02: Plot & analysis of Voltage to Capacity (Potential Profile)\n",
    "5. DA03: Plot & analysis of Coulombic Efficiency\n",
    "6. DA04: Plot & analysis SOH over cycles\n",
    "7. DA05: Analysis of Statistical Summary\n",
    "8. DA06: Plot & analysis of dQ/dV to Voltage\n",
    "\n",
    "== Part of DA ==\n",
    "- Function code for Data Import, Dataframe creation, grouping\n",
    "\n",
    "\n",
    "Authors: Hans and Matthias\n",
    "\n"
   ]
  },
  {
   "cell_type": "markdown",
   "id": "ff6756ac",
   "metadata": {},
   "source": [
    "\n"
   ]
  },
  {
   "cell_type": "code",
   "execution_count": null,
   "id": "203bd850",
   "metadata": {},
   "outputs": [],
   "source": [
    "\n",
    "import pandas as pd\n",
    "import os\n",
    "import functools\n",
    "\n"
   ]
  },
  {
   "cell_type": "markdown",
   "id": "eda3503f",
   "metadata": {},
   "source": [
    "---------------------------------Data Import----------------------------------"
   ]
  },
  {
   "cell_type": "code",
   "execution_count": null,
   "id": "1eeca219",
   "metadata": {},
   "outputs": [],
   "source": [
    "\n",
    "def DA00_Function_Import(data_folder,file_name,rated_capacity):\n"
   ]
  },
  {
   "cell_type": "markdown",
   "id": "e2a750d1",
   "metadata": {},
   "source": [
    "# Import multiple Neware txt files, loop until all files found, remove\n",
    "# tab and header using skiprows, remove index and \".\" as decimal"
   ]
  },
  {
   "cell_type": "code",
   "execution_count": null,
   "id": "52c41075",
   "metadata": {},
   "outputs": [],
   "source": [
    "    df_main = []\n",
    "    i = 0  # Start counter\n",
    "\n",
    "    while True:\n"
   ]
  },
  {
   "cell_type": "markdown",
   "id": "753a3001",
   "metadata": {},
   "source": [
    "# Correctly construct the file path"
   ]
  },
  {
   "cell_type": "code",
   "execution_count": null,
   "id": "6b93ccf1",
   "metadata": {},
   "outputs": [],
   "source": [
    "        file_path = f\"{data_folder}/{file_name}/{file_name}__{i}.txt\"\n",
    "        \n"
   ]
  },
  {
   "cell_type": "markdown",
   "id": "6106c493",
   "metadata": {},
   "source": [
    "# Check if the file exists"
   ]
  },
  {
   "cell_type": "code",
   "execution_count": null,
   "id": "48d934bb",
   "metadata": {},
   "outputs": [],
   "source": [
    "        if os.path.exists(file_path):\n"
   ]
  },
  {
   "cell_type": "markdown",
   "id": "c59ad360",
   "metadata": {},
   "source": [
    "# Read the file"
   ]
  },
  {
   "cell_type": "code",
   "execution_count": null,
   "id": "5c1054d6",
   "metadata": {},
   "outputs": [],
   "source": [
    "            dataraw = pd.read_csv(file_path, sep='\\t', skiprows=0, index_col=False, decimal='.')\n",
    "            df_main.append(dataraw)  # Append dataframe to the list\n",
    "            i += 1  # Increment counter for the next file\n",
    "        else:\n",
    "            print(f\"File {file_path} not found. Stopping.\")\n",
    "            break  # Exit loop when the file is not found\n",
    "\n"
   ]
  },
  {
   "cell_type": "markdown",
   "id": "70916250",
   "metadata": {},
   "source": [
    "# Create one main dataframe by combining the loop import files"
   ]
  },
  {
   "cell_type": "code",
   "execution_count": null,
   "id": "3daa202d",
   "metadata": {},
   "outputs": [],
   "source": [
    "    df_main = pd.concat(df_main, ignore_index=True)\n",
    "\n"
   ]
  },
  {
   "cell_type": "markdown",
   "id": "35f4758a",
   "metadata": {},
   "source": [
    "# change column names"
   ]
  },
  {
   "cell_type": "code",
   "execution_count": null,
   "id": "9c9a6220",
   "metadata": {},
   "outputs": [],
   "source": [
    "    name_conversion_dict = {'Time(h:min:s.ms)': 'Time', 'Voltage(V)':'Voltage', 'Current(mA)': 'Current', 'Capacity(mAh)': 'Capacity', 'dQ/dV(mAh/V)':'dQdV'}\n",
    "    df_main = df_main.rename(columns=name_conversion_dict)\n",
    "\n"
   ]
  },
  {
   "cell_type": "markdown",
   "id": "d66e10f5",
   "metadata": {},
   "source": [
    "# Convert the 'Realtime' column to pandas datetime format"
   ]
  },
  {
   "cell_type": "code",
   "execution_count": null,
   "id": "66269ca9",
   "metadata": {},
   "outputs": [],
   "source": [
    "    df_main['Realtime'] = pd.to_datetime(df_main['Realtime'], format='%m/%d/%Y %H:%M:%S')\n",
    "\n"
   ]
  },
  {
   "cell_type": "markdown",
   "id": "2b696d15",
   "metadata": {},
   "source": [
    "# Convert 'Time' to timedelta (duration) for cumulative addition"
   ]
  },
  {
   "cell_type": "code",
   "execution_count": null,
   "id": "4cf31610",
   "metadata": {},
   "outputs": [],
   "source": [
    "    df_main['Time'] = pd.to_timedelta(df_main['Time'].astype(str))\n"
   ]
  },
  {
   "cell_type": "markdown",
   "id": "10b4db9a",
   "metadata": {},
   "source": [
    "# df_main['Time'] = pd.to_datetime(df_main['Time'], format='%H:%M:%S.%f')"
   ]
  },
  {
   "cell_type": "code",
   "execution_count": null,
   "id": "f967d90a",
   "metadata": {},
   "outputs": [],
   "source": [
    "    \n"
   ]
  },
  {
   "cell_type": "markdown",
   "id": "050f0202",
   "metadata": {},
   "source": [
    "# Accumulate 'Time' on every cycle to 'Cycle_Time'"
   ]
  },
  {
   "cell_type": "code",
   "execution_count": null,
   "id": "3391f310",
   "metadata": {},
   "outputs": [],
   "source": [
    "    df_main['Cycle_Time'] = df_main.groupby('Cycle ID')['Time'].cumsum()\n",
    "    \n",
    "    df_main['SOH'] = df_main['Capacity']/rated_capacity\n",
    "    \n",
    "    return df_main\n",
    "    \n"
   ]
  },
  {
   "cell_type": "markdown",
   "id": "59830c47",
   "metadata": {},
   "source": [
    "----------------------------Grouping in Dataframe-----------------------------"
   ]
  },
  {
   "cell_type": "code",
   "execution_count": null,
   "id": "629dd3fc",
   "metadata": {},
   "outputs": [],
   "source": [
    "def DA00_Function_df_Cycle_Grouping(df_main,result_folder,file_name):\n"
   ]
  },
  {
   "cell_type": "markdown",
   "id": "1a1c66b9",
   "metadata": {},
   "source": [
    "#Make result folder"
   ]
  },
  {
   "cell_type": "code",
   "execution_count": null,
   "id": "e5babaa4",
   "metadata": {},
   "outputs": [],
   "source": [
    "    os.makedirs(f\"{result_folder}/{file_name}\", exist_ok=True)  # exist_ok=True avoids errors if the folder already exists\n",
    "    print(f\"Folder '{result_folder}/{file_name}' created!\")\n",
    "    \n"
   ]
  },
  {
   "cell_type": "markdown",
   "id": "b3ae705c",
   "metadata": {},
   "source": [
    "# Function to add CC_Chg to CV_Chg capacity (as initial capacity)"
   ]
  },
  {
   "cell_type": "code",
   "execution_count": null,
   "id": "4eb68b2d",
   "metadata": {},
   "outputs": [],
   "source": [
    "    def accumulate_capacity(df, start_capacity):\n",
    "        df['Accumulated_Capacity'] = df['Capacity'] + start_capacity\n",
    "        return df\n",
    "\n"
   ]
  },
  {
   "cell_type": "markdown",
   "id": "56457353",
   "metadata": {},
   "source": [
    "# Grouping dataframe by Cycle ID, cycle_id = the cycle numbers"
   ]
  },
  {
   "cell_type": "code",
   "execution_count": null,
   "id": "5441f821",
   "metadata": {},
   "outputs": [],
   "source": [
    "    df_cycle_grouped = df_main.groupby('Cycle ID')\n",
    "    cycle_id = df_cycle_grouped.groups.keys()\n"
   ]
  },
  {
   "cell_type": "markdown",
   "id": "61736f75",
   "metadata": {},
   "source": [
    "#print(cycle_id)"
   ]
  },
  {
   "cell_type": "code",
   "execution_count": null,
   "id": "8bd9d2e3",
   "metadata": {},
   "outputs": [],
   "source": [
    "    \n"
   ]
  },
  {
   "cell_type": "markdown",
   "id": "319c4284",
   "metadata": {},
   "source": [
    "# Initialize an empty list to store data for each cycle"
   ]
  },
  {
   "cell_type": "code",
   "execution_count": null,
   "id": "33aa2673",
   "metadata": {},
   "outputs": [],
   "source": [
    "    df_VQ_grouped_list = []\n",
    "\n"
   ]
  },
  {
   "cell_type": "markdown",
   "id": "c5b4f110",
   "metadata": {},
   "source": [
    "# Iterate over each cycle"
   ]
  },
  {
   "cell_type": "code",
   "execution_count": null,
   "id": "600c69de",
   "metadata": {},
   "outputs": [],
   "source": [
    "    for cycle_id, df_cyc in df_cycle_grouped:\n"
   ]
  },
  {
   "cell_type": "markdown",
   "id": "07aada28",
   "metadata": {},
   "source": [
    "# Group by Step Name within each cycle"
   ]
  },
  {
   "cell_type": "code",
   "execution_count": null,
   "id": "5fa7e281",
   "metadata": {},
   "outputs": [],
   "source": [
    "        df_step_grouped = df_cyc.groupby('Step Name')\n",
    "        step_group_name = df_step_grouped.groups.keys()\n",
    "       \n",
    "        if 'CC_Chg' and 'CV_Chg' and 'CC_DChg' in step_group_name:\n",
    "            \n"
   ]
  },
  {
   "cell_type": "markdown",
   "id": "7d18442a",
   "metadata": {},
   "source": [
    "# Extract relevant steps"
   ]
  },
  {
   "cell_type": "code",
   "execution_count": null,
   "id": "00b58f94",
   "metadata": {},
   "outputs": [],
   "source": [
    "            cc_chg = df_step_grouped.get_group('CC_Chg') if 'CC_Chg' in df_step_grouped.groups else pd.DataFrame()\n",
    "            cv_chg = df_step_grouped.get_group('CV_Chg') if 'CV_Chg' in df_step_grouped.groups else pd.DataFrame()\n",
    "            cc_dchg = df_step_grouped.get_group('CC_DChg') if 'CC_DChg' in df_step_grouped.groups else pd.DataFrame()\n",
    "            \n"
   ]
  },
  {
   "cell_type": "markdown",
   "id": "6acac021",
   "metadata": {},
   "source": [
    "# Voltage and Capacity for Charge steps"
   ]
  },
  {
   "cell_type": "code",
   "execution_count": null,
   "id": "a96c1299",
   "metadata": {},
   "outputs": [],
   "source": [
    "            vchg = pd.concat([cc_chg['Voltage'], cv_chg['Voltage']]) if not cv_chg.empty else cc_chg['Voltage']\n",
    "            dqdvchg = pd.concat([cc_chg['dQdV'], cv_chg['dQdV']]) if not cv_chg.empty else cc_chg['dQdV']\n",
    "            cchg_start = cc_chg['Capacity'].iloc[-1] if not cc_chg.empty else 0\n",
    "            cchg = pd.concat([cc_chg['Capacity'], \n",
    "                              accumulate_capacity(cv_chg, cchg_start)['Accumulated_Capacity']]) if not cv_chg.empty else   cc_chg['Capacity']\n",
    "\n"
   ]
  },
  {
   "cell_type": "markdown",
   "id": "e7af6f15",
   "metadata": {},
   "source": [
    "# Voltage and Capacity for Discharge steps"
   ]
  },
  {
   "cell_type": "code",
   "execution_count": null,
   "id": "e1673764",
   "metadata": {},
   "outputs": [],
   "source": [
    "            vdchg = cc_dchg['Voltage'] if not cc_dchg.empty else pd.Series()\n",
    "            cdchg = cc_dchg['Capacity'] if not cc_dchg.empty else pd.Series()\n",
    "            dqdvdchg = cc_dchg['dQdV'] if not cc_dchg.empty else pd.Series()\n",
    "        \n"
   ]
  },
  {
   "cell_type": "markdown",
   "id": "39b0b338",
   "metadata": {},
   "source": [
    "# Combine into a DataFrame for V-Q"
   ]
  },
  {
   "cell_type": "code",
   "execution_count": null,
   "id": "d819b3e6",
   "metadata": {},
   "outputs": [],
   "source": [
    "            df_VQ = pd.DataFrame({\n",
    "                f'Cycle_{cycle_id}_VChg': vchg.reset_index(drop=True),\n",
    "                f'Cycle_{cycle_id}_CapChg': cchg.reset_index(drop=True),\n",
    "                f'Cycle_{cycle_id}_dQdVChg': dqdvchg.reset_index(drop=True),\n",
    "                f'Cycle_{cycle_id}_VDChg': vdchg.reset_index(drop=True),\n",
    "                f'Cycle_{cycle_id}_CapDChg': cdchg.reset_index(drop=True),\n",
    "                f'Cycle_{cycle_id}_dQdVDChg': dqdvdchg.reset_index(drop=True),\n",
    "                })\n",
    "               \n"
   ]
  },
  {
   "cell_type": "markdown",
   "id": "724af9fa",
   "metadata": {},
   "source": [
    "# Combine all the cycles"
   ]
  },
  {
   "cell_type": "code",
   "execution_count": null,
   "id": "98f73f93",
   "metadata": {},
   "outputs": [],
   "source": [
    "            df_VQ_grouped_list.append(df_VQ)\n",
    "        \n",
    "        else:\n",
    "            continue\n",
    "        \n"
   ]
  },
  {
   "cell_type": "markdown",
   "id": "9a25785c",
   "metadata": {},
   "source": [
    "# Concatenate all cycle data horizontally and save the result"
   ]
  },
  {
   "cell_type": "code",
   "execution_count": null,
   "id": "43b4d561",
   "metadata": {},
   "outputs": [],
   "source": [
    "    df_VQ_grouped = pd.concat(df_VQ_grouped_list, axis=1)\n",
    "    df_VQ_grouped.to_csv(f'{result_folder}/{file_name}/df_VQ_grouped_{file_name}.csv', index=False)\n",
    "    \n",
    "    df_main_ML = df_main.drop(columns=['Realtime', 'dQdV', 'Time', 'Energy(mWh)', 'Step Name'])\n",
    "    df_main_ML = df_main_ML[df_main_ML['Record ID'] % 6 == 0]\n"
   ]
  },
  {
   "cell_type": "markdown",
   "id": "e2948e73",
   "metadata": {},
   "source": [
    "# downsampled_df = df[df['RecordID'] % 6 == 0]"
   ]
  },
  {
   "cell_type": "code",
   "execution_count": null,
   "id": "2fef979c",
   "metadata": {},
   "outputs": [],
   "source": [
    "    df_main_ML.to_csv(f'{result_folder}/{file_name}/df_main_ML_{file_name}.csv', index=False)\n",
    "    \n",
    "    return df_cycle_grouped,df_VQ_grouped    \n",
    "\n"
   ]
  },
  {
   "cell_type": "markdown",
   "id": "ade61d70",
   "metadata": {},
   "source": [
    "------------------------Battery Data Combined Import--------------------------"
   ]
  },
  {
   "cell_type": "code",
   "execution_count": null,
   "id": "bc1ad02c",
   "metadata": {},
   "outputs": [],
   "source": [
    "def DA00_Function_Import_Combined(combined_data_folder, combined_file_name):\n",
    "    print(\"\\nPerforming Import Data...\")\n"
   ]
  },
  {
   "cell_type": "markdown",
   "id": "dca804a0",
   "metadata": {},
   "source": [
    "# @staticmethod"
   ]
  },
  {
   "cell_type": "code",
   "execution_count": null,
   "id": "eb60f3e1",
   "metadata": {},
   "outputs": [],
   "source": [
    "    def DA00_Function_Import_Load(raw_path, gaussian_path, overvoltage_path):\n"
   ]
  },
  {
   "cell_type": "markdown",
   "id": "f2bb8972",
   "metadata": {},
   "source": [
    "# Load raw experimental data"
   ]
  },
  {
   "cell_type": "code",
   "execution_count": null,
   "id": "2405c75f",
   "metadata": {},
   "outputs": [],
   "source": [
    "        raw_data = pd.read_csv(raw_path)\n",
    "        \n"
   ]
  },
  {
   "cell_type": "markdown",
   "id": "41b10a4d",
   "metadata": {},
   "source": [
    "# Load Gaussian fit results"
   ]
  },
  {
   "cell_type": "code",
   "execution_count": null,
   "id": "a8436c0f",
   "metadata": {},
   "outputs": [],
   "source": [
    "        gaussian_data = pd.read_csv(gaussian_path)\n",
    "        \n"
   ]
  },
  {
   "cell_type": "markdown",
   "id": "681f3731",
   "metadata": {},
   "source": [
    "# Load overvoltage data"
   ]
  },
  {
   "cell_type": "code",
   "execution_count": null,
   "id": "bcb94e81",
   "metadata": {},
   "outputs": [],
   "source": [
    "        overvoltage_data = pd.read_csv(overvoltage_path)\n",
    "        \n"
   ]
  },
  {
   "cell_type": "markdown",
   "id": "406cb7ee",
   "metadata": {},
   "source": [
    "# Merge datasets on 'Cycle ID'"
   ]
  },
  {
   "cell_type": "code",
   "execution_count": null,
   "id": "2b286cde",
   "metadata": {},
   "outputs": [],
   "source": [
    "\n",
    "        combined_data = raw_data.merge(gaussian_data, on=\"Cycle ID\", how='left').merge(overvoltage_data, on=\"Cycle ID\", how='left')\n",
    "        \n"
   ]
  },
  {
   "cell_type": "markdown",
   "id": "e5847f9c",
   "metadata": {},
   "source": [
    "# Drop duplicates and clean data"
   ]
  },
  {
   "cell_type": "code",
   "execution_count": null,
   "id": "7876fa9d",
   "metadata": {},
   "outputs": [],
   "source": [
    "        combined_data = combined_data.drop_duplicates()\n",
    "        combined_data = combined_data.dropna()\n",
    "        \n"
   ]
  },
  {
   "cell_type": "markdown",
   "id": "9015c947",
   "metadata": {},
   "source": [
    "# Feature Engineering: Adding rate of change for key indicators"
   ]
  },
  {
   "cell_type": "code",
   "execution_count": null,
   "id": "3651a73f",
   "metadata": {},
   "outputs": [],
   "source": [
    "        combined_data['Delta_Capacity'] = combined_data['Capacity'].diff()\n",
    "        combined_data['Delta_Overvoltage'] = combined_data['Overvoltage'].diff()\n"
   ]
  },
  {
   "cell_type": "markdown",
   "id": "547db338",
   "metadata": {},
   "source": [
    "# combined_data['SOH'] = combined_data['Capacity'] / combined_data['Capacity'].iloc[0] * 100  # Normalize SOH"
   ]
  },
  {
   "cell_type": "code",
   "execution_count": null,
   "id": "9a384f8d",
   "metadata": {},
   "outputs": [],
   "source": [
    "        combined_data.dropna(inplace=True)\n",
    "    \n",
    "        return combined_data\n",
    "    \n",
    "    \n"
   ]
  },
  {
   "cell_type": "markdown",
   "id": "24dcbcc1",
   "metadata": {},
   "source": [
    "# Aggregate data from multiple batteries"
   ]
  },
  {
   "cell_type": "code",
   "execution_count": null,
   "id": "b60c021e",
   "metadata": {},
   "outputs": [],
   "source": [
    "    df_combined_data = []\n",
    "    for code in combined_file_name:\n",
    "        raw_path = os.path.join(combined_data_folder, f\"df_main_ML_{code}.csv\")   \n",
    "        gaussian_path = os.path.join(combined_data_folder, f\"gaussian_fits_{code}.csv\")    \n",
    "        overvoltage_path = os.path.join(combined_data_folder, f\"overvoltage_{code}.csv\")  \n",
    "        battery_data = DA00_Function_Import_Load(raw_path, gaussian_path, overvoltage_path)\n",
    "        battery_data['Battery_code'] = code  # Add a column for battery identification\n",
    "        df_combined_data.append(battery_data)\n",
    "        print(f\"The data from {code} was completely imported\")\n",
    "        \n"
   ]
  },
  {
   "cell_type": "markdown",
   "id": "830fa125",
   "metadata": {},
   "source": [
    "# Combine all battery data"
   ]
  },
  {
   "cell_type": "code",
   "execution_count": null,
   "id": "5049ac75",
   "metadata": {},
   "outputs": [],
   "source": [
    "    df_combined = pd.concat(df_combined_data, ignore_index=True)\n"
   ]
  },
  {
   "cell_type": "markdown",
   "id": "0d49ff6f",
   "metadata": {},
   "source": [
    "# Drop the index directly"
   ]
  },
  {
   "cell_type": "code",
   "execution_count": null,
   "id": "2b42664b",
   "metadata": {},
   "outputs": [],
   "source": [
    "    df_combined.index = range(len(df_combined))\n",
    "    print(\"Aggregated Data:\\n\", df_combined.head())\n",
    "    \n",
    "    return df_combined"
   ]
  },
  {
   "cell_type": "markdown",
   "id": "9df671b9",
   "metadata": {},
   "source": [
    "## Example Execution\n",
    "\n",
    "Let's demonstrate how to use the functions from this script with example data."
   ]
  },
  {
   "cell_type": "code",
   "execution_count": null,
   "id": "ea62a6d5",
   "metadata": {},
   "outputs": [],
   "source": [
    "# Example usage\n",
    "# Replace with actual function calls and sample data when executing\n",
    "print('Running example execution...')"
   ]
  }
 ],
 "metadata": {},
 "nbformat": 4,
 "nbformat_minor": 5
}
