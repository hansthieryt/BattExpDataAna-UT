{
 "cells": [
  {
   "cell_type": "markdown",
   "id": "58d0a4a1",
   "metadata": {},
   "source": [
    "# Main Battery Data Analysis Script\n",
    "\n",
    "This notebook serves as the main execution script for battery data analysis, including data import, processing, and visualization. It integrates multiple functions to analyze voltage vs capacity, state of health, and other key metrics."
   ]
  },
  {
   "cell_type": "markdown",
   "id": "59cd16ae",
   "metadata": {},
   "source": [
    "## 1. Importing Required Libraries\n",
    "\n",
    "Load the necessary libraries for data processing, visualization, and mathematical operations."
   ]
  },
  {
   "cell_type": "code",
   "execution_count": null,
   "id": "c828eaad",
   "metadata": {},
   "outputs": [],
   "source": [
    "\n",
    "import numpy as np\n",
    "import pandas as pd\n",
    "import matplotlib.pyplot as plt\n",
    "\n",
    "# Importing specific functions from other modules\n",
    "from DA_Function.DA00_Function_Import_Main_df import (DA00_Function_Import, \n",
    "                                                      DA00_Function_df_Cycle_Grouping)\n",
    "from DA_Function.DA01_Function_VnIvsTime import (DA01_Function_VnIvsTime, DA01_Function_Power)\n",
    "from DA_Function.DA02_Function_VvsCap import DA02_Function_VvsCap\n",
    "from DA_Function.DA03_Function_Coulombic_Efficiency import DA03_Function_Coulombic_Efficiency\n",
    "from DA_Function.DA04_Function_SOH import DA04_Function_SOH\n",
    "from DA_Function.DA05_Function_Statistical_Model import DA05_Function_Statistical\n",
    "from DA_Function.DA06_Function_dQdV import DA06_Function_dQdV\n"
   ]
  },
  {
   "cell_type": "markdown",
   "id": "8bc558a4",
   "metadata": {},
   "source": [
    "## 2. Data Import and Preprocessing\n",
    "\n",
    "Load the battery data from the specified folder and perform initial grouping by cycles."
   ]
  },
  {
   "cell_type": "code",
   "execution_count": null,
   "id": "600d3626",
   "metadata": {},
   "outputs": [],
   "source": [
    "\n",
    "# Define file and folder paths\n",
    "data_folder = 'DA_Data'  # Folder containing data files\n",
    "result_folder = 'DA_Result'  # Folder to store results\n",
    "file_name = 'M2C3'  # Battery data file name\n",
    "rated_capacity = 2100  # Rated capacity of the battery\n",
    "\n",
    "# Import the main dataset\n",
    "df_main = DA00_Function_Import(data_folder, file_name, rated_capacity)\n",
    "\n",
    "# Group data by cycle\n",
    "df_cycle_grouped, df_VQ_grouped = DA00_Function_df_Cycle_Grouping(df_main, result_folder, file_name)\n"
   ]
  },
  {
   "cell_type": "markdown",
   "id": "cfd2e69b",
   "metadata": {},
   "source": [
    "## 3. Voltage vs Capacity Analysis\n",
    "\n",
    "Analyze the voltage vs capacity relationship across charge-discharge cycles."
   ]
  },
  {
   "cell_type": "code",
   "execution_count": null,
   "id": "5ef34ca5",
   "metadata": {},
   "outputs": [],
   "source": [
    "\n",
    "DA02_Function_VvsCap(df_VQ_grouped, file_name, result_folder)\n"
   ]
  },
  {
   "cell_type": "markdown",
   "id": "0b7b3860",
   "metadata": {},
   "source": [
    "## 4. State of Health (SOH) Analysis\n",
    "\n",
    "Calculate and visualize the state of health of the battery over cycles."
   ]
  },
  {
   "cell_type": "code",
   "execution_count": null,
   "id": "96c29c94",
   "metadata": {},
   "outputs": [],
   "source": [
    "\n",
    "DA04_Function_SOH(df_cycle_grouped, rated_capacity, file_name, result_folder)\n"
   ]
  },
  {
   "cell_type": "markdown",
   "id": "ecf636ce",
   "metadata": {},
   "source": [
    "## 5. dQ/dV Analysis\n",
    "\n",
    "Perform dQ/dV analysis to study capacity degradation trends."
   ]
  },
  {
   "cell_type": "code",
   "execution_count": null,
   "id": "c5aeaac4",
   "metadata": {},
   "outputs": [],
   "source": [
    "\n",
    "# Parameters for interpolation and smoothing\n",
    "interpolation_points = 300\n",
    "window_length = 5\n",
    "polyorder = 1\n",
    "\n",
    "# Peak detection parameters\n",
    "min_prominence = 50\n",
    "min_height = 50\n",
    "max_prominence = 10000\n",
    "max_height = 10000\n",
    "prominence_step = 10\n",
    "height_step = 10\n",
    "max_iterations = 1000\n",
    "max_peaks = 2\n",
    "window_size = 3\n",
    "\n",
    "# Show parameters on plot\n",
    "show_on_plot = ['smooth', 'peaks-fitting']\n",
    "\n",
    "# Perform dQ/dV analysis\n",
    "DA06_Function_dQdV(file_name, df_VQ_grouped, show_on_plot, interpolation_points,\n",
    "                   window_length, polyorder, window_size, min_prominence,\n",
    "                   min_height, max_prominence, max_height, prominence_step,\n",
    "                   height_step, max_iterations, max_peaks, result_folder)\n"
   ]
  }
 ],
 "metadata": {
  "kernelspec": {
   "display_name": "Python 3",
   "language": "python",
   "name": "python3"
  },
  "language_info": {
   "codemirror_mode": {
    "name": "ipython",
    "version": 3
   },
   "file_extension": ".py",
   "mimetype": "text/x-python",
   "name": "python",
   "nbconvert_exporter": "python",
   "pygments_lexer": "ipython3",
   "version": "3.12.4"
  }
 },
 "nbformat": 4,
 "nbformat_minor": 5
}
