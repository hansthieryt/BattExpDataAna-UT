{
 "cells": [
  {
   "cell_type": "markdown",
   "id": "8c26a0c9",
   "metadata": {},
   "source": [
    "# Voltage vs Capacity Analysis\n",
    "\n",
    "This notebook demonstrates how to analyze the Voltage vs Capacity (V-Q) relationship for different charge-discharge cycles."
   ]
  },
  {
   "cell_type": "markdown",
   "id": "27d844e8",
   "metadata": {},
   "source": [
    "## DA02_Function_VvsCap\n",
    "\n",
    "Plots Voltage vs Capacity for all cycles in a dataset."
   ]
  },
  {
   "cell_type": "code",
   "execution_count": null,
   "id": "d7aea50a",
   "metadata": {},
   "outputs": [],
   "source": [
    "\n",
    "import numpy as np\n",
    "import matplotlib.pyplot as plt\n",
    "import re\n",
    "\n",
    "def DA02_Function_VvsCap(df_VQ_grouped, file_name, result_folder):  \n",
    "    cycle_columns = [col for col in df_VQ_grouped.columns if re.match(r'Cycle_\\d+_', col)]\n",
    "    cycle_numbers = sorted({int(re.search(r'Cycle_(\\d+)_', col).group(1)) for col in cycle_columns})\n",
    "\n",
    "    plt.figure(figsize=(14, 8))\n",
    "    colors = plt.cm.jet(np.linspace(0, 1, len(cycle_numbers)))\n",
    "\n",
    "    for idx, cycle_id in enumerate(cycle_numbers):\n",
    "        color = colors[idx]\n",
    "        if f'Cycle_{cycle_id}_VChg' in df_VQ_grouped and f'Cycle_{cycle_id}_CapChg' in df_VQ_grouped:\n",
    "            plt.plot(df_VQ_grouped[f'Cycle_{cycle_id}_CapChg'], df_VQ_grouped[f'Cycle_{cycle_id}_VChg'], color=color)\n",
    "        if f'Cycle_{cycle_id}_VDChg' in df_VQ_grouped and f'Cycle_{cycle_id}_CapDChg' in df_VQ_grouped:\n",
    "            plt.plot(df_VQ_grouped[f'Cycle_{cycle_id}_CapDChg'], df_VQ_grouped[f'Cycle_{cycle_id}_VDChg'], linestyle='--', color=color)\n",
    "\n",
    "    plt.xlabel('Capacity (mAh)')\n",
    "    plt.ylabel('Voltage (V)')\n",
    "    plt.title(f'Voltage vs Capacity for All Cycles - {file_name}')\n",
    "    plt.grid(True)\n",
    "    plt.show()\n"
   ]
  },
  {
   "cell_type": "markdown",
   "id": "c852044b",
   "metadata": {},
   "source": [
    "## DA02_Function_VvsCap_Combined\n",
    "\n",
    "Plots Voltage vs Capacity for combined datasets."
   ]
  },
  {
   "cell_type": "code",
   "execution_count": null,
   "id": "75c13594",
   "metadata": {},
   "outputs": [],
   "source": [
    "\n",
    "def DA02_Function_VvsCap_Combined(combined_result_folder, df_combined):\n",
    "    plt.figure(figsize=(14, 8))\n",
    "    plt.plot(df_combined['Capacity'], df_combined['Voltage'])\n",
    "    plt.xlabel('Capacity (mAh)')\n",
    "    plt.ylabel('Voltage (V)')\n",
    "    plt.title('Voltage vs Capacity for Combined Data')\n",
    "    plt.grid(True)\n",
    "    plt.show()\n"
   ]
  }
 ],
 "metadata": {
  "kernelspec": {
   "display_name": "Python 3",
   "language": "python",
   "name": "python3"
  },
  "language_info": {
   "codemirror_mode": {
    "name": "ipython",
    "version": 3
   },
   "file_extension": ".py",
   "mimetype": "text/x-python",
   "name": "python",
   "nbconvert_exporter": "python",
   "pygments_lexer": "ipython3",
   "version": "3.12.4"
  }
 },
 "nbformat": 4,
 "nbformat_minor": 5
}
