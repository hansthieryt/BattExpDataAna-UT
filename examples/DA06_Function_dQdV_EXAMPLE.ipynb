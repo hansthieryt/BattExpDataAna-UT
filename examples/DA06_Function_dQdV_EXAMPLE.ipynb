{
 "cells": [
  {
   "cell_type": "markdown",
   "id": "62afeb75",
   "metadata": {},
   "source": [
    "# DA06_Function_dQdV\n",
    "\n",
    "This notebook demonstrates the execution of `DA06_Function_dQdV.py`. We will go step by step through its functions, explaining their usage with examples dataset 'N1T1'."
   ]
  },
  {
   "cell_type": "markdown",
   "id": "1c6ca0af",
   "metadata": {},
   "source": [
    "# Functions\n",
    "The functions that will be used for execution, consist of interpolation, smoothing, and fitting. all will be called on the execution part."
   ]
  },
  {
   "cell_type": "markdown",
   "id": "b736998b",
   "metadata": {},
   "source": [
    "## Interpolation function to reduce data points"
   ]
  },
  {
   "cell_type": "code",
   "execution_count": 11,
   "id": "8d15c007",
   "metadata": {},
   "outputs": [],
   "source": [
    "    def interpolate_data(x, y, num_points):\n",
    "        if len(x) < 2 or len(y) < 2:\n",
    "            return x, y  # No interpolation possible\n",
    "        \n",
    "        interpolation_func = interp1d(x, y, kind='linear')\n",
    "        new_x = np.linspace(np.min(x), np.max(x), num_points)\n",
    "        new_y = interpolation_func(new_x)\n",
    "        \n",
    "        return new_x, new_y"
   ]
  },
  {
   "cell_type": "markdown",
   "id": "f7ea19cf",
   "metadata": {},
   "source": [
    "## Function to smooth data using Savitzky-Golay filter"
   ]
  },
  {
   "cell_type": "code",
   "execution_count": 9,
   "id": "fe1840fa",
   "metadata": {},
   "outputs": [],
   "source": [
    "    def smooth_data(y,window_length,polyorder):\n",
    "        if len(y) < 3:\n",
    "            return y  # Not enough data to smooth\n",
    "        return savgol_filter(y,window_length,polyorder)"
   ]
  },
  {
   "cell_type": "markdown",
   "id": "07f0b8f3",
   "metadata": {},
   "source": [
    "## Functions for fitting"
   ]
  },
  {
   "cell_type": "code",
   "execution_count": 10,
   "id": "20db058a",
   "metadata": {},
   "outputs": [],
   "source": [
    "    def gaussian(x, amp, mean, sigma):\n",
    "        amp, mean, sigma = map(float, (amp, mean, sigma))  # Convert parameters to float only\n",
    "        return amp * np.exp(-(x - mean)**2 / (2 * sigma**2))  # Array-safe operation"
   ]
  },
  {
   "cell_type": "markdown",
   "id": "ebddfdae",
   "metadata": {},
   "source": [
    "# Execution"
   ]
  },
  {
   "cell_type": "markdown",
   "id": "9b5fe2f2",
   "metadata": {},
   "source": [
    "## Prepare for processing"
   ]
  },
  {
   "cell_type": "code",
   "execution_count": null,
   "id": "c2b87281",
   "metadata": {},
   "outputs": [],
   "source": [
    "    dqdv_data = []\n",
    "    df_dqdv_data = []\n",
    "    df_peaks_data = []\n",
    "    df_peaks_data_2 = []\n",
    "    gaussian_results = []\n",
    "    overvoltage_data = []\n",
    "    cycle_columns = [col for col in df_VQ_grouped.columns if re.match(r'Cycle_\\d+_', col)]\n",
    "    cycle_numbers = sorted({int(re.search(r'Cycle_(\\d+)_', col).group(1)) for col in cycle_columns})"
   ]
  },
  {
   "cell_type": "markdown",
   "id": "a1695dd8",
   "metadata": {},
   "source": [
    "## Calculate dQ/dV & export into dataframe"
   ]
  },
  {
   "cell_type": "code",
   "execution_count": 12,
   "id": "e1fbe538",
   "metadata": {},
   "outputs": [
    {
     "ename": "NameError",
     "evalue": "name 'cycle_numbers' is not defined",
     "output_type": "error",
     "traceback": [
      "\u001b[1;31m---------------------------------------------------------------------------\u001b[0m",
      "\u001b[1;31mNameError\u001b[0m                                 Traceback (most recent call last)",
      "Cell \u001b[1;32mIn[12], line 1\u001b[0m\n\u001b[1;32m----> 1\u001b[0m \u001b[38;5;28;01mfor\u001b[39;00m cycle_id \u001b[38;5;129;01min\u001b[39;00m \u001b[43mcycle_numbers\u001b[49m:\n\u001b[0;32m      2\u001b[0m     \u001b[38;5;28;01mif\u001b[39;00m \u001b[38;5;124mf\u001b[39m\u001b[38;5;124m'\u001b[39m\u001b[38;5;124mCycle_\u001b[39m\u001b[38;5;132;01m{\u001b[39;00mcycle_id\u001b[38;5;132;01m}\u001b[39;00m\u001b[38;5;124m_CapChg\u001b[39m\u001b[38;5;124m'\u001b[39m \u001b[38;5;129;01min\u001b[39;00m df_VQ_grouped \u001b[38;5;129;01mand\u001b[39;00m \u001b[38;5;124mf\u001b[39m\u001b[38;5;124m'\u001b[39m\u001b[38;5;124mCycle_\u001b[39m\u001b[38;5;132;01m{\u001b[39;00mcycle_id\u001b[38;5;132;01m}\u001b[39;00m\u001b[38;5;124m_VChg\u001b[39m\u001b[38;5;124m'\u001b[39m \u001b[38;5;129;01min\u001b[39;00m df_VQ_grouped \u001b[38;5;129;01mand\u001b[39;00m \u001b[38;5;124mf\u001b[39m\u001b[38;5;124m'\u001b[39m\u001b[38;5;124mCycle_\u001b[39m\u001b[38;5;132;01m{\u001b[39;00mcycle_id\u001b[38;5;132;01m}\u001b[39;00m\u001b[38;5;124m_dQdVChg\u001b[39m\u001b[38;5;124m'\u001b[39m \u001b[38;5;129;01min\u001b[39;00m df_VQ_grouped:\n\u001b[0;32m      3\u001b[0m         capchg \u001b[38;5;241m=\u001b[39m df_VQ_grouped[\u001b[38;5;124mf\u001b[39m\u001b[38;5;124m'\u001b[39m\u001b[38;5;124mCycle_\u001b[39m\u001b[38;5;132;01m{\u001b[39;00mcycle_id\u001b[38;5;132;01m}\u001b[39;00m\u001b[38;5;124m_CapChg\u001b[39m\u001b[38;5;124m'\u001b[39m]\u001b[38;5;241m.\u001b[39mdropna()\n",
      "\u001b[1;31mNameError\u001b[0m: name 'cycle_numbers' is not defined"
     ]
    }
   ],
   "source": [
    "    for cycle_id in cycle_numbers:\n",
    "        if f'Cycle_{cycle_id}_CapChg' in df_VQ_grouped and f'Cycle_{cycle_id}_VChg' in df_VQ_grouped and f'Cycle_{cycle_id}_dQdVChg' in df_VQ_grouped:\n",
    "            capchg = df_VQ_grouped[f'Cycle_{cycle_id}_CapChg'].dropna()\n",
    "            vchg = df_VQ_grouped[f'Cycle_{cycle_id}_VChg'].dropna()\n",
    "            dqdvchg = df_VQ_grouped[f'Cycle_{cycle_id}_dQdVChg'].dropna()\n",
    "            vchg_interp, capchg_interp = interpolate_data(vchg,capchg,interpolation_points)   \n",
    "            dQdV_chg_ori = np.diff(capchg) / np.diff(vchg)\n",
    "            dQdV_chg_int = np.diff(capchg_interp) / np.diff(vchg_interp)\n",
    "            dQdV_chg_smooth = smooth_data(dQdV_chg_int,window_length,polyorder)\n",
    "            dqdv_data = pd.DataFrame({\n",
    "                f'Cycle_{cycle_id}_VChg': vchg_interp[:-1],\n",
    "                f'Cycle_{cycle_id}_dQdVChg_Smooth': dQdV_chg_smooth\n",
    "                })\n",
    "            df_dqdv_data.append(dqdv_data)\n",
    "            \n",
    "        if f'Cycle_{cycle_id}_CapDChg' in df_VQ_grouped and f'Cycle_{cycle_id}_VDChg' in df_VQ_grouped and f'Cycle_{cycle_id}_dQdVDChg' in df_VQ_grouped:\n",
    "            capdchg = df_VQ_grouped[f'Cycle_{cycle_id}_CapDChg'].dropna()\n",
    "            vdchg = df_VQ_grouped[f'Cycle_{cycle_id}_VDChg'].dropna()\n",
    "            dqdvdchg = df_VQ_grouped[f'Cycle_{cycle_id}_dQdVDChg'].dropna()\n",
    "            vdchg_interp, capdchg_interp = interpolate_data(vdchg,capdchg,interpolation_points)\n",
    "            dQdV_dchg_ori = np.diff(capdchg) / np.diff(vdchg)\n",
    "            dQdV_dchg_int = np.diff(capdchg_interp) / np.diff(vdchg_interp)\n",
    "            dQdV_dchg_smooth = smooth_data(dQdV_dchg_int,window_length,polyorder)\n",
    "            dqdv_data = pd.DataFrame({\n",
    "                f'Cycle_{cycle_id}_VDChg': vdchg_interp[:-1],\n",
    "                f'Cycle_{cycle_id}_dQdVDChg_Smooth': dQdV_dchg_smooth\n",
    "            })\n",
    "            df_dqdv_data.append(dqdv_data)"
   ]
  },
  {
   "cell_type": "markdown",
   "id": "78497e3b",
   "metadata": {},
   "source": [
    "## Plotting dQ/dV vs Voltage per cycles & Exporting the dQ/dV data to a CSV"
   ]
  },
  {
   "cell_type": "code",
   "execution_count": null,
   "id": "f9831fa4",
   "metadata": {},
   "outputs": [],
   "source": [
    "        if 'data' or 'ori' or 'int' or 'smooth' in show_on_plot:\n",
    "            plt.figure(figsize=(10, 6))\n",
    "            if 'data' in show_on_plot:\n",
    "                plt.plot(vchg, dqdvchg, label='Charge data', linestyle='--', color='purple')\n",
    "                plt.plot(vdchg, dqdvdchg, label='Discharge data', linestyle='--', color='orange')\n",
    "            if 'ori' in show_on_plot:\n",
    "                plt.scatter(vchg[:-1], dQdV_chg_ori, label='Charge ori', color='purple')\n",
    "                plt.scatter(vdchg[:-1], dQdV_dchg_ori, label='Discharge ori', color='orange')\n",
    "            if 'int' in show_on_plot:\n",
    "                plt.plot(vchg_interp[:-1], dQdV_chg_int, label='Charge int', linestyle='--', color='cyan')\n",
    "                plt.plot(vdchg_interp[:-1], dQdV_dchg_int, label='Discharge int', linestyle='--', color='yellow')\n",
    "            if 'smooth' in show_on_plot:\n",
    "                plt.plot(vchg_interp[:-1], dQdV_chg_smooth, label='Charge smooth', color='blue')\n",
    "                plt.plot(vdchg_interp[:-1], dQdV_dchg_smooth, label='Discharge smooth', color='red')\n",
    "            plt.xlabel('Voltage (V)')\n",
    "            plt.ylabel('dQ/dV (mAh/V)')\n",
    "            plt.ylim(-8000, 8000)\n",
    "            plt.title(f'dQ/dV Curve of {file_name} Cycle {cycle_id}')\n",
    "            plt.legend()\n",
    "            plt.grid(True)\n",
    "            plt.tight_layout()\n",
    "            plt.savefig(f'{result_folder}/{file_name}/dQdV_{file_name}_Cycle_{cycle_id}.png', dpi=300)\n",
    "            plt.show()\n",
    "            \n",
    "    df_dqdv = pd.concat(df_dqdv_data, axis=1)\n",
    "    df_dqdv.to_csv(f'{result_folder}/{file_name}/df_dQdV_{file_name}_filtered.csv', index=False)\n",
    "    print(\"dQ/dV data saved successfully to\",f'{result_folder}/{file_name}/df_dQdV_{file_name}_filtered.csv')"
   ]
  },
  {
   "cell_type": "markdown",
   "id": "d3e86064",
   "metadata": {},
   "source": [
    "## Plotting dQ/dV vs Voltage for all cycles with colormap"
   ]
  },
  {
   "cell_type": "code",
   "execution_count": null,
   "id": "44c2f6a9",
   "metadata": {},
   "outputs": [],
   "source": [
    "    colors = plt.cm.rainbow(np.linspace(0, 1, len(cycle_numbers)))\n",
    "    plt.figure(figsize=(10, 6))\n",
    "    \n",
    "    for idx, cycle_id in enumerate(cycle_numbers):\n",
    "        color = colors[idx]\n",
    "        if cycle_id == 1:\n",
    "            cycle_id = 2\n",
    "            idx = 2\n",
    "        else :\n",
    "            if f'Cycle_{cycle_id}_VChg' in df_dqdv and f'Cycle_{cycle_id}_dQdVChg_Smooth' in df_dqdv:\n",
    "                plt.plot(df_dqdv[f'Cycle_{cycle_id}_VChg'], \n",
    "                         df_dqdv[f'Cycle_{cycle_id}_dQdVChg_Smooth'], \n",
    "                         color=color)\n",
    "            if f'Cycle_{cycle_id}_VDChg' in df_dqdv and f'Cycle_{cycle_id}_dQdVDChg_Smooth' in df_dqdv:\n",
    "                plt.plot(df_dqdv[f'Cycle_{cycle_id}_VDChg'],\n",
    "                         df_dqdv[f'Cycle_{cycle_id}_dQdVDChg_Smooth'], linestyle='--',\n",
    "                         color=color)\n",
    "\n",
    "    plt.xlabel('Voltage (V)')\n",
    "    plt.ylabel('Diffential Capacity (dQ/dV)')\n",
    "    plt.ylim(-8000, 8000)\n",
    "    plt.title(f'Voltage vs dQ/dV for All Cycles - {file_name}')\n",
    "    plt.legend()\n",
    "    plt.grid(True)\n",
    "    plt.savefig(f'{result_folder}/{file_name}/All_Cycles_dQdV_{file_name}.png')"
   ]
  },
  {
   "cell_type": "markdown",
   "id": "793b9719",
   "metadata": {},
   "source": [
    "## Peak Finding & Fitting"
   ]
  },
  {
   "cell_type": "code",
   "execution_count": null,
   "id": "4a419949",
   "metadata": {},
   "outputs": [],
   "source": [
    "    if 'peaks-fitting' in show_on_plot:\n",
    "        for cycle_id in cycle_numbers:                       \n",
    "            height_range = min_height\n",
    "            prominence_range = min_prominence\n",
    "            Chg_peak_indices = []\n",
    "            iterations = 0\n",
    "            dqdv_chg_smooth = df_dqdv[f'Cycle_{cycle_id}_dQdVChg_Smooth']\n",
    "            print(dqdv_chg_smooth)\n",
    "            v_chg_smooth = df_dqdv[f'Cycle_{cycle_id}_VChg']\n",
    "            while (len(Chg_peak_indices) > max_peaks or len(Chg_peak_indices) == 0) and iterations < max_iterations:\n",
    "                print(f\"Iteration {iterations}: len(Chg_peak_indices) = {len(Chg_peak_indices)}, height_range = {height_range}, prominence_range = {prominence_range}\")\n",
    "                Chg_peak_indices, _ = find_peaks(dqdv_chg_smooth, height=height_range, prominence=prominence_range)\n",
    "                if len(Chg_peak_indices) > max_peaks:\n",
    "                    print(\"Detected more than 2 peaks; increasing thresholds\")\n",
    "                    height_range = min(height_range + height_step, max_height)\n",
    "                    prominence_range = min(prominence_range + prominence_step, max_prominence)\n",
    "                elif len(Chg_peak_indices) == 0:\n",
    "                    print(\"No peaks detected; decreasing thresholds\")\n",
    "                    height_range = max(height_range - height_step, min_height)\n",
    "                    prominence_range = max(prominence_range - prominence_step, min_prominence)\n",
    "                iterations += 1\n",
    "            Chg_peak_indices, _ = find_peaks(dqdv_chg_smooth, height=height_range, prominence=prominence_range)\n",
    "            Chg_peak_voltages = v_chg_smooth[Chg_peak_indices]\n",
    "            Chg_peak_heights = dqdv_chg_smooth[Chg_peak_indices]\n",
    "            \n",
    "            print(f\"On Cycle {cycle_id},Charge, the Peaks are Peak Voltages: {Chg_peak_voltages}, Peak Heights: {Chg_peak_heights}, Peak Indices: {Chg_peak_indices}\\n\")\n",
    "            \n",
    "            height_range = min_height\n",
    "            prominence_range = min_prominence\n",
    "            DChg_peak_indices = []\n",
    "            iterations = 0\n",
    "            dqdv_dchg_smooth = df_dqdv[f'Cycle_{cycle_id}_dQdVDChg_Smooth']\n",
    "            v_dchg_smooth = df_dqdv[f'Cycle_{cycle_id}_VDChg']\n",
    "            while (len(DChg_peak_indices) > max_peaks or len(DChg_peak_indices) == 0) and iterations < max_iterations:\n",
    "                print(f\"Iteration {iterations}: len(DChg_peak_indices) = {len(DChg_peak_indices)}, height_range = {height_range}, prominence_range = {prominence_range}\")\n",
    "                DChg_peak_indices, _ = find_peaks(-dqdv_dchg_smooth, height=height_range, prominence=prominence_range)\n",
    "                if len(DChg_peak_indices) > max_peaks:\n",
    "                    print(\"Detected more than 2 peaks; increasing thresholds\")\n",
    "                    height_range = min(height_range + height_step, max_height)\n",
    "                    prominence_range = min(prominence_range + prominence_step, max_prominence)\n",
    "                elif len(Chg_peak_indices) == 0:\n",
    "                    print(\"No peaks detected; decreasing thresholds\")\n",
    "                    height_range = max(height_range - height_step, min_height)\n",
    "                    prominence_range = max(prominence_range - prominence_step, min_prominence)\n",
    "                iterations += 1\n",
    "            DChg_peak_indices, _ = find_peaks(-dqdv_dchg_smooth, height=height_range, prominence=prominence_range)\n",
    "            DChg_peak_voltages = v_dchg_smooth[DChg_peak_indices]\n",
    "            DChg_peak_heights = dqdv_dchg_smooth[DChg_peak_indices]\n",
    "            \n",
    "            print(f\"On Cycle {cycle_id}, Discharge, the Peaks are Peak Voltages: {DChg_peak_voltages}, Peak Heights: {DChg_peak_heights}, Peak Indices: {DChg_peak_indices}\\n\")"
   ]
  },
  {
   "cell_type": "markdown",
   "id": "de452eaa",
   "metadata": {},
   "source": [
    "### Combine peak data into a dataframe for further analysis or export"
   ]
  },
  {
   "cell_type": "code",
   "execution_count": null,
   "id": "f285da2a",
   "metadata": {},
   "outputs": [],
   "source": [
    "            peaks_data = pd.DataFrame({\n",
    "                f'Voltage_Charge_Peaks_Cycle_{cycle_id}': Chg_peak_voltages.reset_index(drop=True),\n",
    "                f'dQdV_Charge_Peaks_Cycle_{cycle_id}': Chg_peak_heights.reset_index(drop=True),\n",
    "                f'Voltage_DisCharge_Peaks_Cycle_{cycle_id}': DChg_peak_voltages.reset_index(drop=True),\n",
    "                f'dQdV_DisCharge_Peaks_Cycle_{cycle_id}': DChg_peak_heights.reset_index(drop=True),\n",
    "                f'Overvoltage_Peaks_Cycle_{cycle_id}': Chg_peak_voltages.reset_index(drop=True)-DChg_peak_voltages.reset_index(drop=True)\n",
    "            })\n",
    "            df_peaks_data.append(peaks_data)\n",
    "            \n",
    "            peaks_data_2 = pd.DataFrame({\n",
    "                'Cycle ID': cycle_id,\n",
    "                'Charge Voltage': Chg_peak_voltages.reset_index(drop=True),\n",
    "                'Discharge Voltage': DChg_peak_voltages.reset_index(drop=True),\n",
    "                'Overvoltage': Chg_peak_voltages.reset_index(drop=True)-DChg_peak_voltages.reset_index(drop=True)\n",
    "            })\n",
    "            df_peaks_data_2.append(peaks_data_2)"
   ]
  },
  {
   "cell_type": "markdown",
   "id": "385fe854",
   "metadata": {},
   "source": [
    "## Gaussian Fitting"
   ]
  },
  {
   "cell_type": "code",
   "execution_count": null,
   "id": "3f791fb3",
   "metadata": {},
   "outputs": [],
   "source": [
    "            Chg_gauss_params = []\n",
    "            DChg_gauss_params = []  \n",
    "            Chg_gauss_area = []\n",
    "            DChg_gauss_area = []\n",
    "    \n",
    "            for Chg_peak in Chg_peak_indices:\n",
    "                Chg_x_peak = v_chg_smooth[max(0, Chg_peak - window_size):min(len(v_chg_smooth), Chg_peak + window_size)]\n",
    "                Chg_y_peak = dqdv_chg_smooth[max(0, Chg_peak - window_size):min(len(v_chg_smooth), Chg_peak + window_size)]\n",
    "                Chg_amp_guess = dqdv_chg_smooth[Chg_peak]\n",
    "                Chg_mean_guess = v_chg_smooth[Chg_peak]\n",
    "                Chg_sigma_guess = 0.05  # Adjust this value based on your expected peak widths\n",
    "                \n",
    "                try:\n",
    "                    Chg_popt, _ = curve_fit(gaussian, Chg_x_peak, Chg_y_peak, p0=[Chg_amp_guess, Chg_mean_guess, Chg_sigma_guess], maxfev=5000)\n",
    "                    Chg_area = Chg_popt[0] * Chg_popt[2] * np.sqrt(2 * np.pi)\n",
    "                    Chg_gauss_params.append(Chg_popt)  # Append cycle ID and type to params   \n",
    "                    Chg_gauss_area.append(Chg_area)\n",
    "                except RuntimeError:\n",
    "                    continue\n",
    "    \n",
    "            for DChg_peak in DChg_peak_indices:\n",
    "                DChg_x_peak = v_dchg_smooth[max(0, DChg_peak - window_size):min(len(v_dchg_smooth), DChg_peak + window_size)]\n",
    "                DChg_y_peak = dqdv_dchg_smooth[max(0, DChg_peak - window_size):min(len(v_dchg_smooth), DChg_peak + window_size)]\n",
    "                DChg_amp_guess = dqdv_dchg_smooth[DChg_peak]\n",
    "                DChg_mean_guess = v_dchg_smooth[DChg_peak]\n",
    "                DChg_sigma_guess = 0.5  # Adjust this value based on your expected peak widths\n",
    "                try:\n",
    "                    DChg_popt, _ = curve_fit(gaussian, DChg_x_peak, DChg_y_peak, p0=[DChg_amp_guess, DChg_mean_guess, DChg_sigma_guess], maxfev=5000)\n",
    "                    DChg_area = DChg_popt[0] * DChg_popt[2] * np.sqrt(2 * np.pi)\n",
    "                    DChg_gauss_params.append(DChg_popt)  # Append cycle ID and type to params     \n",
    "                    DChg_gauss_area.append(DChg_area)\n",
    "                except RuntimeError:\n",
    "                    continue"
   ]
  },
  {
   "cell_type": "markdown",
   "id": "3e8f42ac",
   "metadata": {},
   "source": [
    "### Plotting"
   ]
  },
  {
   "cell_type": "code",
   "execution_count": null,
   "id": "229136d4",
   "metadata": {},
   "outputs": [],
   "source": [
    "            plt.figure(figsize=(12, 6))\n",
    "            plt.plot(v_chg_smooth, dqdv_chg_smooth, label='Charge Smoothed dQ/dV curve', color='blue')\n",
    "            plt.plot(v_dchg_smooth, dqdv_dchg_smooth, label='Discharge Smoothed dQ/dV curve', color='red')\n",
    "            for Chg_params in Chg_gauss_params:\n",
    "                plt.plot(v_chg_smooth, gaussian(v_chg_smooth, *Chg_params), '--', label=f'Charging Gaussian fit (mean={Chg_params[1]:.2f})')\n",
    "            plt.scatter(v_chg_smooth[Chg_peak_indices], dqdv_chg_smooth[Chg_peak_indices], color='red', label='Charge Detected Peaks')\n",
    "\n",
    "            for DChg_params in DChg_gauss_params:\n",
    "                plt.plot(v_dchg_smooth, gaussian(v_dchg_smooth, *DChg_params), '--', label=f'Discharging Gaussian fit (mean={DChg_params[1]:.2f})')\n",
    "            plt.scatter(v_dchg_smooth[DChg_peak_indices], dqdv_dchg_smooth[DChg_peak_indices], color='purple', label='Discharge Detected Peaks')\n",
    "\n",
    "            plt.xlabel('Voltage (V)')\n",
    "            plt.ylabel('dQ/dV (mAh/V)')\n",
    "            plt.ylim(-8000, 8000)\n",
    "            plt.title(f'dQ/dV Curve with fitting of {file_name} Cycle {cycle_id}')\n",
    "            plt.legend()\n",
    "            plt.grid(True)\n",
    "            plt.tight_layout()\n",
    "            plt.savefig(f'{result_folder}/{file_name}/dQdV_fitting_{file_name}_Cycle_{cycle_id}.png', dpi=300)\n",
    "            plt.show()"
   ]
  },
  {
   "cell_type": "markdown",
   "id": "d3db2271",
   "metadata": {},
   "source": [
    "## Gaussian peak properties"
   ]
  },
  {
   "cell_type": "code",
   "execution_count": null,
   "id": "3b93a811",
   "metadata": {},
   "outputs": [],
   "source": [
    "            peak_no_Chg = 1\n",
    "            for chg_popt in Chg_gauss_params:\n",
    "                chg_popt = list(chg_popt)  # Convert to list for safe concatenation\n",
    "                chg_area = chg_popt[0] * chg_popt[2] * np.sqrt(2 * np.pi)\n",
    "                chg_label = peak_no_Chg\n",
    "                peak_no_Chg += 1\n",
    "                gaussian_results.append([cycle_id, 'Charge', chg_label, *chg_popt, chg_area])\n",
    "                \n",
    "            peak_no_DChg = 1\n",
    "            for dchg_popt in DChg_gauss_params:\n",
    "                dchg_popt = list(dchg_popt)  # Convert to list for safe concatenation\n",
    "                dchg_area = dchg_popt[0] * dchg_popt[2] * np.sqrt(2 * np.pi)\n",
    "                dchg_label = peak_no_DChg\n",
    "                peak_no_DChg += 1\n",
    "                gaussian_results.append([cycle_id, 'Discharge', dchg_label, *dchg_popt, dchg_area])"
   ]
  },
  {
   "cell_type": "markdown",
   "id": "d56212fe",
   "metadata": {},
   "source": [
    "### Export to CSV"
   ]
  },
  {
   "cell_type": "code",
   "execution_count": null,
   "id": "070b7dba",
   "metadata": {},
   "outputs": [],
   "source": [
    "        df_peaks = pd.concat(df_peaks_data, axis=1)\n",
    "        df_peaks.to_csv(f'{result_folder}/{file_name}/df_peaks_{file_name}.csv', index=False)\n",
    "        print(\"Peaks data saved successfully to\", f'{result_folder}/{file_name}/df_peaks_{file_name}.csv')\n",
    "        \n",
    "        df_peaks_2 = pd.concat(df_peaks_data_2)\n",
    "        df_peaks_2.to_csv(f'{result_folder}/{file_name}/overvoltage_{file_name}.csv', index=False)\n",
    "        print(\"Overvoltage data saved successfully to\", f'{result_folder}/{file_name}/overvoltage_{file_name}.csv')\n",
    "\n",
    "        df_dqdv = pd.concat(df_dqdv_data, axis=1)\n",
    "        df_dqdv.to_csv(f'{result_folder}/{file_name}/df_dQdV_{file_name}_filtered.csv', index=False)\n",
    "        print(\"dQ/dV data saved successfully to\",f'{result_folder}/{file_name}/df_dQdV_{file_name}_filtered.csv')\n",
    "\n",
    "        gaussian_df = pd.DataFrame(gaussian_results, columns=['Cycle ID', 'Status', 'Peak No', 'Amplitude', 'Mean', 'Sigma', 'Area'])\n",
    "        gaussian_df.to_csv(f'{result_folder}/{file_name}/gaussian_fits_{file_name}.csv', index=False)\n",
    "        print(\"Gaussian fitting properties saved successfully to\",f'{result_folder}/{file_name}/gaussian_fits_{file_name}.csv')"
   ]
  }
 ],
 "metadata": {
  "kernelspec": {
   "display_name": "Python 3",
   "language": "python",
   "name": "python3"
  },
  "language_info": {
   "codemirror_mode": {
    "name": "ipython",
    "version": 3
   },
   "file_extension": ".py",
   "mimetype": "text/x-python",
   "name": "python",
   "nbconvert_exporter": "python",
   "pygments_lexer": "ipython3",
   "version": "3.12.3"
  }
 },
 "nbformat": 4,
 "nbformat_minor": 5
}
