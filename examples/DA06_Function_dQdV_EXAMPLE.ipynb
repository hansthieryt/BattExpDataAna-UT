{
 "cells": [
  {
   "cell_type": "markdown",
   "id": "62afeb75",
   "metadata": {},
   "source": [
    "# DA06_Function_dQdV\n",
    "\n",
    "This notebook demonstrates the execution of `DA06_Function_dQdV.py`.\n",
    "\n",
    "We will go step by step through its functions, explaining their usage with examples."
   ]
  },
  {
   "cell_type": "markdown",
   "id": "56790d4d",
   "metadata": {},
   "source": [
    "-*- coding: utf-8 -*-"
   ]
  },
  {
   "cell_type": "markdown",
   "id": "0ea365f3",
   "metadata": {},
   "source": [
    "\n"
   ]
  },
  {
   "cell_type": "markdown",
   "id": "344fa275",
   "metadata": {},
   "source": [
    "\n"
   ]
  },
  {
   "cell_type": "code",
   "execution_count": null,
   "id": "3dd310b4",
   "metadata": {},
   "outputs": [],
   "source": [
    "import pandas as pd\n",
    "import numpy as np\n",
    "import matplotlib.pyplot as plt\n",
    "from scipy.signal import savgol_filter\n",
    "from scipy.interpolate import interp1d\n",
    "from scipy.signal import find_peaks\n",
    "from scipy.optimize import curve_fit\n",
    "from lmfit.models import GaussianModel, LorentzianModel, VoigtModel\n",
    "import re\n",
    "\n",
    "def DA06_Function_dQdV(file_name,df_VQ_grouped,show_on_plot,\n",
    "                       interpolation_points,window_length,polyorder,\n",
    "                       window_size,min_prominence,min_height,max_prominence,\n",
    "                       max_height,prominence_step,height_step,max_iterations,\n",
    "                       max_peaks,result_folder):\n",
    "\n"
   ]
  },
  {
   "cell_type": "markdown",
   "id": "b736998b",
   "metadata": {},
   "source": [
    "--------------------------------dQ/dV calculation-----------------------------\n",
    "# Interpolation function to reduce data points"
   ]
  },
  {
   "cell_type": "code",
   "execution_count": null,
   "id": "8d15c007",
   "metadata": {},
   "outputs": [],
   "source": [
    "    def interpolate_data(x, y, num_points):\n",
    "        if len(x) < 2 or len(y) < 2:\n",
    "            return x, y  # No interpolation possible\n",
    "        \n",
    "        interpolation_func = interp1d(x, y, kind='linear')\n",
    "        new_x = np.linspace(np.min(x), np.max(x), num_points)\n",
    "        new_y = interpolation_func(new_x)\n",
    "        \n",
    "        return new_x, new_y\n",
    "\n"
   ]
  },
  {
   "cell_type": "markdown",
   "id": "f7ea19cf",
   "metadata": {},
   "source": [
    "# Function to smooth data using Savitzky-Golay filter"
   ]
  },
  {
   "cell_type": "code",
   "execution_count": null,
   "id": "fe1840fa",
   "metadata": {},
   "outputs": [],
   "source": [
    "    def smooth_data(y,window_length,polyorder):\n",
    "        if len(y) < 3:\n",
    "            return y  # Not enough data to smooth\n",
    "        return savgol_filter(y,window_length,polyorder)\n",
    "     \n",
    "    dqdv_data = []\n",
    "    df_dqdv_data = []\n",
    "    df_peaks_data = []\n",
    "    df_peaks_data_2 = []\n",
    "    gaussian_results = []\n",
    "    overvoltage_data = []\n",
    " \n",
    "    \n"
   ]
  },
  {
   "cell_type": "markdown",
   "id": "c3ee9097",
   "metadata": {},
   "source": [
    "# Extract unique cycle numbers from the column names"
   ]
  },
  {
   "cell_type": "code",
   "execution_count": null,
   "id": "80ab8161",
   "metadata": {},
   "outputs": [],
   "source": [
    "    cycle_columns = [col for col in df_VQ_grouped.columns if re.match(r'Cycle_\\d+_', col)]\n",
    "    cycle_numbers = sorted({int(re.search(r'Cycle_(\\d+)_', col).group(1)) for col in cycle_columns})\n",
    "\n",
    "    for cycle_id in cycle_numbers:\n",
    "\n"
   ]
  },
  {
   "cell_type": "markdown",
   "id": "a1695dd8",
   "metadata": {},
   "source": [
    "# Calculate dQ/dV for Charge"
   ]
  },
  {
   "cell_type": "code",
   "execution_count": null,
   "id": "e1fbe538",
   "metadata": {},
   "outputs": [],
   "source": [
    "        if f'Cycle_{cycle_id}_CapChg' in df_VQ_grouped and f'Cycle_{cycle_id}_VChg' in df_VQ_grouped and f'Cycle_{cycle_id}_dQdVChg' in df_VQ_grouped:\n",
    "            capchg = df_VQ_grouped[f'Cycle_{cycle_id}_CapChg'].dropna()\n",
    "            vchg = df_VQ_grouped[f'Cycle_{cycle_id}_VChg'].dropna()\n",
    "            dqdvchg = df_VQ_grouped[f'Cycle_{cycle_id}_dQdVChg'].dropna()\n",
    "            \n"
   ]
  },
  {
   "cell_type": "markdown",
   "id": "53723449",
   "metadata": {},
   "source": [
    "# Interpolate data"
   ]
  },
  {
   "cell_type": "code",
   "execution_count": null,
   "id": "b8c64344",
   "metadata": {},
   "outputs": [],
   "source": [
    "            vchg_interp, capchg_interp = interpolate_data(vchg,capchg,interpolation_points)\n",
    "            \n"
   ]
  },
  {
   "cell_type": "markdown",
   "id": "d71b8b67",
   "metadata": {},
   "source": [
    "# Calculate dQ/dV"
   ]
  },
  {
   "cell_type": "code",
   "execution_count": null,
   "id": "3b9ce913",
   "metadata": {},
   "outputs": [],
   "source": [
    "            dQdV_chg_ori = np.diff(capchg) / np.diff(vchg)\n",
    "            dQdV_chg_int = np.diff(capchg_interp) / np.diff(vchg_interp)\n",
    "            dQdV_chg_smooth = smooth_data(dQdV_chg_int,window_length,polyorder)\n",
    "           \n"
   ]
  },
  {
   "cell_type": "markdown",
   "id": "83d48674",
   "metadata": {},
   "source": [
    "# Combine those data into dataframe"
   ]
  },
  {
   "cell_type": "code",
   "execution_count": null,
   "id": "341426f5",
   "metadata": {},
   "outputs": [],
   "source": [
    "            dqdv_data = pd.DataFrame({\n",
    "                f'Cycle_{cycle_id}_VChg': vchg_interp[:-1],\n"
   ]
  },
  {
   "cell_type": "markdown",
   "id": "5c4f1eaf",
   "metadata": {},
   "source": [
    "# f'Cycle_{cycle_id}_dQdVChg_int': dQdV_chg_int,"
   ]
  },
  {
   "cell_type": "code",
   "execution_count": null,
   "id": "41a1cd11",
   "metadata": {},
   "outputs": [],
   "source": [
    "                f'Cycle_{cycle_id}_dQdVChg_Smooth': dQdV_chg_smooth\n",
    "            })\n",
    "            df_dqdv_data.append(dqdv_data)\n",
    "            \n"
   ]
  },
  {
   "cell_type": "markdown",
   "id": "3480fd27",
   "metadata": {},
   "source": [
    "# Calculate dQ/dV for Discharge"
   ]
  },
  {
   "cell_type": "code",
   "execution_count": null,
   "id": "7d6bb2dd",
   "metadata": {},
   "outputs": [],
   "source": [
    "        if f'Cycle_{cycle_id}_CapDChg' in df_VQ_grouped and f'Cycle_{cycle_id}_VDChg' in df_VQ_grouped and f'Cycle_{cycle_id}_dQdVDChg' in df_VQ_grouped:\n",
    "            capdchg = df_VQ_grouped[f'Cycle_{cycle_id}_CapDChg'].dropna()\n",
    "            vdchg = df_VQ_grouped[f'Cycle_{cycle_id}_VDChg'].dropna()\n",
    "            dqdvdchg = df_VQ_grouped[f'Cycle_{cycle_id}_dQdVDChg'].dropna()\n",
    "            \n"
   ]
  },
  {
   "cell_type": "markdown",
   "id": "267a5703",
   "metadata": {},
   "source": [
    "# Interpolate data"
   ]
  },
  {
   "cell_type": "code",
   "execution_count": null,
   "id": "7db7dd7d",
   "metadata": {},
   "outputs": [],
   "source": [
    "            vdchg_interp, capdchg_interp = interpolate_data(vdchg,capdchg,interpolation_points)\n",
    "            \n"
   ]
  },
  {
   "cell_type": "markdown",
   "id": "98d09282",
   "metadata": {},
   "source": [
    "# Calculate dQ/dV on interpolated data"
   ]
  },
  {
   "cell_type": "code",
   "execution_count": null,
   "id": "ebc863c8",
   "metadata": {},
   "outputs": [],
   "source": [
    "            dQdV_dchg_ori = np.diff(capdchg) / np.diff(vdchg)\n",
    "            dQdV_dchg_int = np.diff(capdchg_interp) / np.diff(vdchg_interp)\n",
    "            dQdV_dchg_smooth = smooth_data(dQdV_dchg_int,window_length,polyorder)\n",
    "            \n"
   ]
  },
  {
   "cell_type": "markdown",
   "id": "dc516683",
   "metadata": {},
   "source": [
    "# Combine those data into dataframe"
   ]
  },
  {
   "cell_type": "code",
   "execution_count": null,
   "id": "697eed39",
   "metadata": {},
   "outputs": [],
   "source": [
    "            dqdv_data = pd.DataFrame({\n",
    "                f'Cycle_{cycle_id}_VDChg': vdchg_interp[:-1],\n"
   ]
  },
  {
   "cell_type": "markdown",
   "id": "501fc24e",
   "metadata": {},
   "source": [
    "# f'Cycle_{cycle_id}_dQdVDChg_int': dQdV_dchg_int,"
   ]
  },
  {
   "cell_type": "code",
   "execution_count": null,
   "id": "140556b3",
   "metadata": {},
   "outputs": [],
   "source": [
    "                f'Cycle_{cycle_id}_dQdVDChg_Smooth': dQdV_dchg_smooth\n",
    "            })\n",
    "            df_dqdv_data.append(dqdv_data)\n",
    "\n"
   ]
  },
  {
   "cell_type": "markdown",
   "id": "78497e3b",
   "metadata": {},
   "source": [
    "-------------------------Plotting dQ/dV----------------------------------\n",
    "# Plotting dQ/dV vs Voltage"
   ]
  },
  {
   "cell_type": "code",
   "execution_count": null,
   "id": "f9831fa4",
   "metadata": {},
   "outputs": [],
   "source": [
    "        if 'data' or 'ori' or 'int' or 'smooth' in show_on_plot:\n",
    "            plt.figure(figsize=(10, 6))\n",
    "     \n"
   ]
  },
  {
   "cell_type": "markdown",
   "id": "5c158cbb",
   "metadata": {},
   "source": [
    "# Plot Charge dQ/dV data from Neware"
   ]
  },
  {
   "cell_type": "code",
   "execution_count": null,
   "id": "21d6f6c5",
   "metadata": {},
   "outputs": [],
   "source": [
    "            if 'data' in show_on_plot:\n",
    "                plt.plot(vchg, dqdvchg, label='Charge data', linestyle='--', color='purple')\n",
    "                plt.plot(vdchg, dqdvdchg, label='Discharge data', linestyle='--', color='orange')\n",
    "                \n"
   ]
  },
  {
   "cell_type": "markdown",
   "id": "6ccdccb3",
   "metadata": {},
   "source": [
    "# Plot Charge dQ/dV original calculated"
   ]
  },
  {
   "cell_type": "code",
   "execution_count": null,
   "id": "91a1762b",
   "metadata": {},
   "outputs": [],
   "source": [
    "            if 'ori' in show_on_plot:\n",
    "                plt.scatter(vchg[:-1], dQdV_chg_ori, label='Charge ori', color='purple')\n",
    "                plt.scatter(vdchg[:-1], dQdV_dchg_ori, label='Discharge ori', color='orange')\n",
    "                     \n"
   ]
  },
  {
   "cell_type": "markdown",
   "id": "325894b2",
   "metadata": {},
   "source": [
    "# Plot Charge dQ/dV interpolated"
   ]
  },
  {
   "cell_type": "code",
   "execution_count": null,
   "id": "66761e81",
   "metadata": {},
   "outputs": [],
   "source": [
    "            if 'int' in show_on_plot:\n",
    "                plt.plot(vchg_interp[:-1], dQdV_chg_int, label='Charge int', linestyle='--', color='cyan')\n",
    "                plt.plot(vdchg_interp[:-1], dQdV_dchg_int, label='Discharge int', linestyle='--', color='yellow')\n",
    "                \n"
   ]
  },
  {
   "cell_type": "markdown",
   "id": "7359b178",
   "metadata": {},
   "source": [
    "# Plot Charge dQ/dV interpolated and smoothed"
   ]
  },
  {
   "cell_type": "code",
   "execution_count": null,
   "id": "a36c1c71",
   "metadata": {},
   "outputs": [],
   "source": [
    "            if 'smooth' in show_on_plot:\n",
    "                plt.plot(vchg_interp[:-1], dQdV_chg_smooth, label='Charge smooth', color='blue')\n",
    "                plt.plot(vdchg_interp[:-1], dQdV_dchg_smooth, label='Discharge smooth', color='red')\n",
    "            \n"
   ]
  },
  {
   "cell_type": "markdown",
   "id": "02bf9eb4",
   "metadata": {},
   "source": [
    "# Add labels, title, and legend"
   ]
  },
  {
   "cell_type": "code",
   "execution_count": null,
   "id": "5429efc1",
   "metadata": {},
   "outputs": [],
   "source": [
    "            plt.xlabel('Voltage (V)')\n",
    "            plt.ylabel('dQ/dV (mAh/V)')\n",
    "            plt.ylim(-8000, 8000)\n",
    "            plt.title(f'dQ/dV Curve of {file_name} Cycle {cycle_id}')\n",
    "            plt.legend()\n",
    "            plt.grid(True)\n",
    "            plt.tight_layout()\n",
    "            plt.savefig(f'{result_folder}/{file_name}/dQdV_{file_name}_Cycle_{cycle_id}.png', dpi=300)\n",
    "            plt.show()\n",
    "     \n"
   ]
  },
  {
   "cell_type": "markdown",
   "id": "86bb01b3",
   "metadata": {},
   "source": [
    "# Export the dQ/dV data to a CSV"
   ]
  },
  {
   "cell_type": "code",
   "execution_count": null,
   "id": "5aaa9bf5",
   "metadata": {},
   "outputs": [],
   "source": [
    "    df_dqdv = pd.concat(df_dqdv_data, axis=1)\n",
    "    df_dqdv.to_csv(f'{result_folder}/{file_name}/df_dQdV_{file_name}_filtered.csv', index=False)\n",
    "    print(\"dQ/dV data saved successfully to\",f'{result_folder}/{file_name}/df_dQdV_{file_name}_filtered.csv')\n",
    "\n"
   ]
  },
  {
   "cell_type": "markdown",
   "id": "d3e86064",
   "metadata": {},
   "source": [
    "-----------------------------Plot all cycles----------------------------------\n",
    "# Create the plot with a rainbow color map, all cycles"
   ]
  },
  {
   "cell_type": "code",
   "execution_count": null,
   "id": "44c2f6a9",
   "metadata": {},
   "outputs": [],
   "source": [
    "    colors = plt.cm.rainbow(np.linspace(0, 1, len(cycle_numbers)))\n",
    "    plt.figure(figsize=(10, 6))\n",
    "    \n",
    "    for idx, cycle_id in enumerate(cycle_numbers):\n",
    "        color = colors[idx]\n",
    "        if cycle_id == 1:\n",
    "            cycle_id = 2\n",
    "            idx = 2\n",
    "        else :\n"
   ]
  },
  {
   "cell_type": "markdown",
   "id": "5c3a938c",
   "metadata": {},
   "source": [
    "# Plot Charge"
   ]
  },
  {
   "cell_type": "code",
   "execution_count": null,
   "id": "67d4077a",
   "metadata": {},
   "outputs": [],
   "source": [
    "            if f'Cycle_{cycle_id}_VChg' in df_dqdv and f'Cycle_{cycle_id}_dQdVChg_Smooth' in df_dqdv:\n",
    "                plt.plot(df_dqdv[f'Cycle_{cycle_id}_VChg'], \n",
    "                         df_dqdv[f'Cycle_{cycle_id}_dQdVChg_Smooth'], \n"
   ]
  },
  {
   "cell_type": "markdown",
   "id": "fa08d337",
   "metadata": {},
   "source": [
    "#label=f'Cycle {cycle_id} Charge',"
   ]
  },
  {
   "cell_type": "code",
   "execution_count": null,
   "id": "c86c2b27",
   "metadata": {},
   "outputs": [],
   "source": [
    "                         color=color)\n",
    "\n"
   ]
  },
  {
   "cell_type": "markdown",
   "id": "cb4e8d53",
   "metadata": {},
   "source": [
    "# Plot Discharge"
   ]
  },
  {
   "cell_type": "code",
   "execution_count": null,
   "id": "74bfe3c4",
   "metadata": {},
   "outputs": [],
   "source": [
    "            if f'Cycle_{cycle_id}_VDChg' in df_dqdv and f'Cycle_{cycle_id}_dQdVDChg_Smooth' in df_dqdv:\n",
    "                plt.plot(df_dqdv[f'Cycle_{cycle_id}_VDChg'],\n",
    "                         df_dqdv[f'Cycle_{cycle_id}_dQdVDChg_Smooth'], linestyle='--', \n"
   ]
  },
  {
   "cell_type": "markdown",
   "id": "37202b6d",
   "metadata": {},
   "source": [
    "#label=f'Cycle {cycle_id} Discharge',"
   ]
  },
  {
   "cell_type": "code",
   "execution_count": null,
   "id": "916aafbf",
   "metadata": {},
   "outputs": [],
   "source": [
    "                         color=color)\n",
    "\n",
    "    plt.xlabel('Voltage (V)')\n",
    "    plt.ylabel('Diffential Capacity (dQ/dV)')\n",
    "    plt.ylim(-8000, 8000)\n",
    "    plt.title(f'Voltage vs dQ/dV for All Cycles - {file_name}')\n",
    "    plt.legend()\n",
    "    plt.grid(True)\n",
    "    plt.savefig(f'{result_folder}/{file_name}/All_Cycles_dQdV_{file_name}.png')\n",
    "\n"
   ]
  },
  {
   "cell_type": "markdown",
   "id": "b7139bfc",
   "metadata": {},
   "source": [
    "-----------------------Function for fitting & categorize----------------------\n",
    "# Function for fitting"
   ]
  },
  {
   "cell_type": "code",
   "execution_count": null,
   "id": "f0f63023",
   "metadata": {},
   "outputs": [],
   "source": [
    "    def gaussian(x, amp, mean, sigma):\n"
   ]
  },
  {
   "cell_type": "markdown",
   "id": "3db91aa6",
   "metadata": {},
   "source": [
    "# Convert inputs to float to avoid type mismatch errors"
   ]
  },
  {
   "cell_type": "code",
   "execution_count": null,
   "id": "aedbded3",
   "metadata": {},
   "outputs": [],
   "source": [
    "        amp, mean, sigma = map(float, (amp, mean, sigma))  # Convert parameters to float only\n",
    "        return amp * np.exp(-(x - mean)**2 / (2 * sigma**2))  # Array-safe operation\n",
    "\n",
    "    def voigt(x, amp, cen, sigma, gamma):\n",
    "        return amp * np.real(np.exp(-(x - cen) ** 2 / (2 * sigma ** 2)) + gamma / (sigma * np.sqrt(2 * np.pi)))\n",
    "           \n"
   ]
  },
  {
   "cell_type": "markdown",
   "id": "793b9719",
   "metadata": {},
   "source": [
    "-----------------------Peaks finding & Gaussian Fitting-----------------------"
   ]
  },
  {
   "cell_type": "code",
   "execution_count": null,
   "id": "6bab2ea4",
   "metadata": {},
   "outputs": [],
   "source": [
    "\n"
   ]
  },
  {
   "cell_type": "markdown",
   "id": "1f9d40ce",
   "metadata": {},
   "source": [
    "# Plot Charge dQ/dV with significant peaks"
   ]
  },
  {
   "cell_type": "code",
   "execution_count": null,
   "id": "4a419949",
   "metadata": {},
   "outputs": [],
   "source": [
    "    if 'peaks-fitting' in show_on_plot:\n",
    "        for cycle_id in cycle_numbers:                       \n"
   ]
  },
  {
   "cell_type": "markdown",
   "id": "8042bae4",
   "metadata": {},
   "source": [
    "# Start with minimum prominence and height values"
   ]
  },
  {
   "cell_type": "code",
   "execution_count": null,
   "id": "acf11c0f",
   "metadata": {},
   "outputs": [],
   "source": [
    "            height_range = min_height\n",
    "            prominence_range = min_prominence\n",
    "            Chg_peak_indices = []\n",
    "            iterations = 0\n",
    "            dqdv_chg_smooth = df_dqdv[f'Cycle_{cycle_id}_dQdVChg_Smooth']\n",
    "            print(dqdv_chg_smooth)\n",
    "            v_chg_smooth = df_dqdv[f'Cycle_{cycle_id}_VChg']\n",
    "            while (len(Chg_peak_indices) > max_peaks or len(Chg_peak_indices) == 0) and iterations < max_iterations:\n",
    "                print(f\"Iteration {iterations}: len(Chg_peak_indices) = {len(Chg_peak_indices)}, height_range = {height_range}, prominence_range = {prominence_range}\")\n",
    "    \n"
   ]
  },
  {
   "cell_type": "markdown",
   "id": "7d0e98d4",
   "metadata": {},
   "source": [
    "# Detect peaks"
   ]
  },
  {
   "cell_type": "code",
   "execution_count": null,
   "id": "39b2b8eb",
   "metadata": {},
   "outputs": [],
   "source": [
    "                Chg_peak_indices, _ = find_peaks(dqdv_chg_smooth, height=height_range, prominence=prominence_range)\n",
    "    \n"
   ]
  },
  {
   "cell_type": "markdown",
   "id": "2ebb9995",
   "metadata": {},
   "source": [
    "# Adjust height and prominence based on the number of detected peaks"
   ]
  },
  {
   "cell_type": "code",
   "execution_count": null,
   "id": "35fcec42",
   "metadata": {},
   "outputs": [],
   "source": [
    "                if len(Chg_peak_indices) > max_peaks:\n",
    "                    print(\"Detected more than 2 peaks; increasing thresholds\")\n",
    "                    height_range = min(height_range + height_step, max_height)\n",
    "                    prominence_range = min(prominence_range + prominence_step, max_prominence)\n",
    "                elif len(Chg_peak_indices) == 0:\n",
    "                    print(\"No peaks detected; decreasing thresholds\")\n",
    "                    height_range = max(height_range - height_step, min_height)\n",
    "                    prominence_range = max(prominence_range - prominence_step, min_prominence)\n",
    "    \n"
   ]
  },
  {
   "cell_type": "markdown",
   "id": "c76740fd",
   "metadata": {},
   "source": [
    "# Increment iteration count"
   ]
  },
  {
   "cell_type": "code",
   "execution_count": null,
   "id": "89d1ced8",
   "metadata": {},
   "outputs": [],
   "source": [
    "                iterations += 1\n",
    "            \n"
   ]
  },
  {
   "cell_type": "markdown",
   "id": "bfccef65",
   "metadata": {},
   "source": [
    "# Final peak detection after exiting the loop"
   ]
  },
  {
   "cell_type": "code",
   "execution_count": null,
   "id": "8c610871",
   "metadata": {},
   "outputs": [],
   "source": [
    "            Chg_peak_indices, _ = find_peaks(dqdv_chg_smooth, height=height_range, prominence=prominence_range)\n",
    "            Chg_peak_voltages = v_chg_smooth[Chg_peak_indices]\n",
    "            Chg_peak_heights = dqdv_chg_smooth[Chg_peak_indices]\n",
    "            \n",
    "            print(f\"On Cycle {cycle_id},Charge, the Peaks are Peak Voltages: {Chg_peak_voltages}, Peak Heights: {Chg_peak_heights}, Peak Indices: {Chg_peak_indices}\\n\")\n",
    "    \n"
   ]
  },
  {
   "cell_type": "markdown",
   "id": "b5719941",
   "metadata": {},
   "source": [
    "#-----------------------------Discharge--------------------------------\n",
    "# Start with minimum prominence and height values"
   ]
  },
  {
   "cell_type": "code",
   "execution_count": null,
   "id": "c233b142",
   "metadata": {},
   "outputs": [],
   "source": [
    "            height_range = min_height\n",
    "            prominence_range = min_prominence\n",
    "            DChg_peak_indices = []\n",
    "            iterations = 0\n",
    "            dqdv_dchg_smooth = df_dqdv[f'Cycle_{cycle_id}_dQdVDChg_Smooth']\n",
    "            v_dchg_smooth = df_dqdv[f'Cycle_{cycle_id}_VDChg']\n",
    "            while (len(DChg_peak_indices) > max_peaks or len(DChg_peak_indices) == 0) and iterations < max_iterations:\n",
    "                print(f\"Iteration {iterations}: len(DChg_peak_indices) = {len(DChg_peak_indices)}, height_range = {height_range}, prominence_range = {prominence_range}\")\n",
    "    \n"
   ]
  },
  {
   "cell_type": "markdown",
   "id": "c2a0961a",
   "metadata": {},
   "source": [
    "# Detect peaks"
   ]
  },
  {
   "cell_type": "code",
   "execution_count": null,
   "id": "7996b704",
   "metadata": {},
   "outputs": [],
   "source": [
    "                DChg_peak_indices, _ = find_peaks(-dqdv_dchg_smooth, height=height_range, prominence=prominence_range)\n",
    "    \n"
   ]
  },
  {
   "cell_type": "markdown",
   "id": "13860494",
   "metadata": {},
   "source": [
    "# Adjust height and prominence based on the number of detected peaks"
   ]
  },
  {
   "cell_type": "code",
   "execution_count": null,
   "id": "cc0d4fd2",
   "metadata": {},
   "outputs": [],
   "source": [
    "                if len(DChg_peak_indices) > max_peaks:\n",
    "                    print(\"Detected more than 2 peaks; increasing thresholds\")\n",
    "                    height_range = min(height_range + height_step, max_height)\n",
    "                    prominence_range = min(prominence_range + prominence_step, max_prominence)\n",
    "                elif len(Chg_peak_indices) == 0:\n",
    "                    print(\"No peaks detected; decreasing thresholds\")\n",
    "                    height_range = max(height_range - height_step, min_height)\n",
    "                    prominence_range = max(prominence_range - prominence_step, min_prominence)\n",
    "    \n"
   ]
  },
  {
   "cell_type": "markdown",
   "id": "8c9f9806",
   "metadata": {},
   "source": [
    "# Increment iteration count"
   ]
  },
  {
   "cell_type": "code",
   "execution_count": null,
   "id": "44814366",
   "metadata": {},
   "outputs": [],
   "source": [
    "                iterations += 1\n",
    "    \n"
   ]
  },
  {
   "cell_type": "markdown",
   "id": "f2af9bb5",
   "metadata": {},
   "source": [
    "# Final peak detection after exiting the loop"
   ]
  },
  {
   "cell_type": "code",
   "execution_count": null,
   "id": "1cf9d02d",
   "metadata": {},
   "outputs": [],
   "source": [
    "            DChg_peak_indices, _ = find_peaks(-dqdv_dchg_smooth, height=height_range, prominence=prominence_range)\n",
    "            DChg_peak_voltages = v_dchg_smooth[DChg_peak_indices]\n",
    "            DChg_peak_heights = dqdv_dchg_smooth[DChg_peak_indices]\n",
    "            \n",
    "            print(f\"On Cycle {cycle_id}, Discharge, the Peaks are Peak Voltages: {DChg_peak_voltages}, Peak Heights: {DChg_peak_heights}, Peak Indices: {DChg_peak_indices}\\n\")\n",
    "\n"
   ]
  },
  {
   "cell_type": "markdown",
   "id": "de452eaa",
   "metadata": {},
   "source": [
    "# Combine peak data into a dataframe for further analysis or export"
   ]
  },
  {
   "cell_type": "code",
   "execution_count": null,
   "id": "f285da2a",
   "metadata": {},
   "outputs": [],
   "source": [
    "            peaks_data = pd.DataFrame({\n",
    "                f'Voltage_Charge_Peaks_Cycle_{cycle_id}': Chg_peak_voltages.reset_index(drop=True),\n",
    "                f'dQdV_Charge_Peaks_Cycle_{cycle_id}': Chg_peak_heights.reset_index(drop=True),\n",
    "                f'Voltage_DisCharge_Peaks_Cycle_{cycle_id}': DChg_peak_voltages.reset_index(drop=True),\n",
    "                f'dQdV_DisCharge_Peaks_Cycle_{cycle_id}': DChg_peak_heights.reset_index(drop=True),\n",
    "                f'Overvoltage_Peaks_Cycle_{cycle_id}': Chg_peak_voltages.reset_index(drop=True)-DChg_peak_voltages.reset_index(drop=True)\n",
    "            })\n",
    "            df_peaks_data.append(peaks_data)\n",
    "            \n",
    "            peaks_data_2 = pd.DataFrame({\n",
    "                'Cycle ID': cycle_id,\n",
    "                'Charge Voltage': Chg_peak_voltages.reset_index(drop=True),\n",
    "                'Discharge Voltage': DChg_peak_voltages.reset_index(drop=True),\n",
    "                'Overvoltage': Chg_peak_voltages.reset_index(drop=True)-DChg_peak_voltages.reset_index(drop=True)\n",
    "            })\n",
    "            df_peaks_data_2.append(peaks_data_2)\n",
    "        \n",
    "            \n"
   ]
  },
  {
   "cell_type": "markdown",
   "id": "385fe854",
   "metadata": {},
   "source": [
    "# Prepare to fit Gaussian curves"
   ]
  },
  {
   "cell_type": "code",
   "execution_count": null,
   "id": "3f791fb3",
   "metadata": {},
   "outputs": [],
   "source": [
    "            Chg_gauss_params = []\n",
    "            DChg_gauss_params = []  \n",
    "            Chg_gauss_area = []\n",
    "            DChg_gauss_area = []\n",
    "    \n",
    "            for Chg_peak in Chg_peak_indices:\n"
   ]
  },
  {
   "cell_type": "markdown",
   "id": "f9a90b18",
   "metadata": {},
   "source": [
    "# Take a small window around each peak for fitting"
   ]
  },
  {
   "cell_type": "code",
   "execution_count": null,
   "id": "0d2f56bc",
   "metadata": {},
   "outputs": [],
   "source": [
    "                Chg_x_peak = v_chg_smooth[max(0, Chg_peak - window_size):min(len(v_chg_smooth), Chg_peak + window_size)]\n",
    "                Chg_y_peak = dqdv_chg_smooth[max(0, Chg_peak - window_size):min(len(v_chg_smooth), Chg_peak + window_size)]\n",
    "    \n"
   ]
  },
  {
   "cell_type": "markdown",
   "id": "a66d578e",
   "metadata": {},
   "source": [
    "# Initial guesses for amp, mean, sigma"
   ]
  },
  {
   "cell_type": "code",
   "execution_count": null,
   "id": "962b09af",
   "metadata": {},
   "outputs": [],
   "source": [
    "                Chg_amp_guess = dqdv_chg_smooth[Chg_peak]\n",
    "                Chg_mean_guess = v_chg_smooth[Chg_peak]\n",
    "                Chg_sigma_guess = 0.05  # Adjust this value based on your expected peak widths\n",
    "                \n",
    "                try:\n",
    "                    Chg_popt, _ = curve_fit(gaussian, Chg_x_peak, Chg_y_peak, p0=[Chg_amp_guess, Chg_mean_guess, Chg_sigma_guess], maxfev=5000)\n",
    "                    Chg_area = Chg_popt[0] * Chg_popt[2] * np.sqrt(2 * np.pi)\n",
    "                    Chg_gauss_params.append(Chg_popt)  # Append cycle ID and type to params   \n",
    "                    Chg_gauss_area.append(Chg_area)\n",
    "                except RuntimeError:\n"
   ]
  },
  {
   "cell_type": "markdown",
   "id": "92d67b5e",
   "metadata": {},
   "source": [
    "# Skip if fitting fails"
   ]
  },
  {
   "cell_type": "code",
   "execution_count": null,
   "id": "1e6eaf5c",
   "metadata": {},
   "outputs": [],
   "source": [
    "                    continue\n",
    "    \n",
    "            for DChg_peak in DChg_peak_indices:\n"
   ]
  },
  {
   "cell_type": "markdown",
   "id": "e1613f28",
   "metadata": {},
   "source": [
    "# Take a small window around each peak for fitting"
   ]
  },
  {
   "cell_type": "code",
   "execution_count": null,
   "id": "f9a31ef8",
   "metadata": {},
   "outputs": [],
   "source": [
    "                DChg_x_peak = v_dchg_smooth[max(0, DChg_peak - window_size):min(len(v_dchg_smooth), DChg_peak + window_size)]\n",
    "                DChg_y_peak = dqdv_dchg_smooth[max(0, DChg_peak - window_size):min(len(v_dchg_smooth), DChg_peak + window_size)]\n",
    "    \n"
   ]
  },
  {
   "cell_type": "markdown",
   "id": "ea84e5f2",
   "metadata": {},
   "source": [
    "# Initial guesses for amp, mean, sigma"
   ]
  },
  {
   "cell_type": "code",
   "execution_count": null,
   "id": "cee8ed8e",
   "metadata": {},
   "outputs": [],
   "source": [
    "                DChg_amp_guess = dqdv_dchg_smooth[DChg_peak]\n",
    "                DChg_mean_guess = v_dchg_smooth[DChg_peak]\n",
    "                DChg_sigma_guess = 0.5  # Adjust this value based on your expected peak widths\n",
    "                   \n"
   ]
  },
  {
   "cell_type": "markdown",
   "id": "aa403ad9",
   "metadata": {},
   "source": [
    "# Fit Gaussian to each peak"
   ]
  },
  {
   "cell_type": "code",
   "execution_count": null,
   "id": "57666cf9",
   "metadata": {},
   "outputs": [],
   "source": [
    "                try:\n",
    "                    DChg_popt, _ = curve_fit(gaussian, DChg_x_peak, DChg_y_peak, p0=[DChg_amp_guess, DChg_mean_guess, DChg_sigma_guess], maxfev=5000)\n",
    "                    DChg_area = DChg_popt[0] * DChg_popt[2] * np.sqrt(2 * np.pi)\n",
    "                    DChg_gauss_params.append(DChg_popt)  # Append cycle ID and type to params     \n",
    "                    DChg_gauss_area.append(DChg_area)\n",
    "                except RuntimeError:\n"
   ]
  },
  {
   "cell_type": "markdown",
   "id": "256efbc2",
   "metadata": {},
   "source": [
    "# Skip if fitting fails"
   ]
  },
  {
   "cell_type": "code",
   "execution_count": null,
   "id": "b9556ae9",
   "metadata": {},
   "outputs": [],
   "source": [
    "                    continue\n",
    "            \n"
   ]
  },
  {
   "cell_type": "markdown",
   "id": "3e8f42ac",
   "metadata": {},
   "source": [
    "#---------------------------Plotting-------------------------------"
   ]
  },
  {
   "cell_type": "code",
   "execution_count": null,
   "id": "229136d4",
   "metadata": {},
   "outputs": [],
   "source": [
    "            plt.figure(figsize=(12, 6))\n",
    "\n"
   ]
  },
  {
   "cell_type": "markdown",
   "id": "9fa584a2",
   "metadata": {},
   "source": [
    "# Plot the smoothed dQ/dV curve"
   ]
  },
  {
   "cell_type": "code",
   "execution_count": null,
   "id": "2691a3c9",
   "metadata": {},
   "outputs": [],
   "source": [
    "            plt.plot(v_chg_smooth, dqdv_chg_smooth, label='Charge Smoothed dQ/dV curve', color='blue')\n",
    "            plt.plot(v_dchg_smooth, dqdv_dchg_smooth, label='Discharge Smoothed dQ/dV curve', color='red')\n",
    "                \n"
   ]
  },
  {
   "cell_type": "markdown",
   "id": "07f0179d",
   "metadata": {},
   "source": [
    "# Plot each fitted Gaussian"
   ]
  },
  {
   "cell_type": "code",
   "execution_count": null,
   "id": "197ec614",
   "metadata": {},
   "outputs": [],
   "source": [
    "            for Chg_params in Chg_gauss_params:\n",
    "                plt.plot(v_chg_smooth, gaussian(v_chg_smooth, *Chg_params), '--', label=f'Charging Gaussian fit (mean={Chg_params[1]:.2f})')\n",
    "                \n"
   ]
  },
  {
   "cell_type": "markdown",
   "id": "7ff13c02",
   "metadata": {},
   "source": [
    "# Highlight the detected peaks"
   ]
  },
  {
   "cell_type": "code",
   "execution_count": null,
   "id": "d98969ef",
   "metadata": {},
   "outputs": [],
   "source": [
    "            plt.scatter(v_chg_smooth[Chg_peak_indices], dqdv_chg_smooth[Chg_peak_indices], color='red', label='Charge Detected Peaks')\n",
    "    \n"
   ]
  },
  {
   "cell_type": "markdown",
   "id": "25ddacb4",
   "metadata": {},
   "source": [
    "# Plot each fitted Gaussian"
   ]
  },
  {
   "cell_type": "code",
   "execution_count": null,
   "id": "1a409add",
   "metadata": {},
   "outputs": [],
   "source": [
    "            for DChg_params in DChg_gauss_params:\n",
    "                plt.plot(v_dchg_smooth, gaussian(v_dchg_smooth, *DChg_params), '--', label=f'Discharging Gaussian fit (mean={DChg_params[1]:.2f})')\n",
    "    \n"
   ]
  },
  {
   "cell_type": "markdown",
   "id": "9996f637",
   "metadata": {},
   "source": [
    "# Highlight the detected peaks"
   ]
  },
  {
   "cell_type": "code",
   "execution_count": null,
   "id": "d5c0a4c3",
   "metadata": {},
   "outputs": [],
   "source": [
    "            plt.scatter(v_dchg_smooth[DChg_peak_indices], dqdv_dchg_smooth[DChg_peak_indices], color='purple', label='Discharge Detected Peaks')\n",
    "    \n"
   ]
  },
  {
   "cell_type": "markdown",
   "id": "671b1886",
   "metadata": {},
   "source": [
    "# Add labels, title, and legend"
   ]
  },
  {
   "cell_type": "code",
   "execution_count": null,
   "id": "231b4e71",
   "metadata": {},
   "outputs": [],
   "source": [
    "            plt.xlabel('Voltage (V)')\n",
    "            plt.ylabel('dQ/dV (mAh/V)')\n",
    "            plt.ylim(-8000, 8000)\n",
    "            plt.title(f'dQ/dV Curve with fitting of {file_name} Cycle {cycle_id}')\n",
    "            plt.legend()\n",
    "            plt.grid(True)\n",
    "            plt.tight_layout()\n",
    "            plt.savefig(f'{result_folder}/{file_name}/dQdV_fitting_{file_name}_Cycle_{cycle_id}.png', dpi=300)\n",
    "            plt.show()   \n",
    "            \n"
   ]
  },
  {
   "cell_type": "markdown",
   "id": "d3db2271",
   "metadata": {},
   "source": [
    "# Gaussian peak"
   ]
  },
  {
   "cell_type": "code",
   "execution_count": null,
   "id": "3b93a811",
   "metadata": {},
   "outputs": [],
   "source": [
    "            peak_no_Chg = 1\n",
    "            for chg_popt in Chg_gauss_params:\n",
    "                chg_popt = list(chg_popt)  # Convert to list for safe concatenation\n",
    "                chg_area = chg_popt[0] * chg_popt[2] * np.sqrt(2 * np.pi)\n",
    "                chg_label = peak_no_Chg\n",
    "                peak_no_Chg += 1\n",
    "                gaussian_results.append([cycle_id, 'Charge', chg_label, *chg_popt, chg_area])\n",
    "                \n",
    "            peak_no_DChg = 1\n",
    "            for dchg_popt in DChg_gauss_params:\n",
    "                dchg_popt = list(dchg_popt)  # Convert to list for safe concatenation\n",
    "                dchg_area = dchg_popt[0] * dchg_popt[2] * np.sqrt(2 * np.pi)\n",
    "                dchg_label = peak_no_DChg\n",
    "                peak_no_DChg += 1\n",
    "                gaussian_results.append([cycle_id, 'Discharge', dchg_label, *dchg_popt, dchg_area])\n",
    "                \n"
   ]
  },
  {
   "cell_type": "markdown",
   "id": "15c3adfe",
   "metadata": {},
   "source": [
    "# # Overvoltage calculation within same peak number and cycle number\n",
    "# charge_peaks = [x for x in gaussian_results if x[1] == 'Charge' and x[0] == cycle_id]\n",
    "# discharge_peaks = [x for x in gaussian_results if x[1] == 'Discharge' and x[0] == cycle_id]"
   ]
  },
  {
   "cell_type": "code",
   "execution_count": null,
   "id": "666a3c28",
   "metadata": {},
   "outputs": [],
   "source": [
    "    \n"
   ]
  },
  {
   "cell_type": "markdown",
   "id": "00457a1f",
   "metadata": {},
   "source": [
    "# for chg in charge_peaks:\n",
    "#     for dchg in discharge_peaks:\n",
    "#         if chg[2] == dchg[2]:  # Same peak label\n",
    "#             overvoltage = chg[4] - dchg[4]\n",
    "#             overvoltage_data.append([cycle_id, chg[2], chg[4], dchg[4], overvoltage])"
   ]
  },
  {
   "cell_type": "code",
   "execution_count": null,
   "id": "e98d0e7f",
   "metadata": {},
   "outputs": [],
   "source": [
    "                    \n"
   ]
  },
  {
   "cell_type": "markdown",
   "id": "d56212fe",
   "metadata": {},
   "source": [
    "----------------------------------Exporting-----------------------------------\n",
    "# Export peak data to CSV"
   ]
  },
  {
   "cell_type": "code",
   "execution_count": null,
   "id": "070b7dba",
   "metadata": {},
   "outputs": [],
   "source": [
    "        df_peaks = pd.concat(df_peaks_data, axis=1)\n",
    "        df_peaks.to_csv(f'{result_folder}/{file_name}/df_peaks_{file_name}.csv', index=False)\n",
    "        print(\"Peaks data saved successfully to\", f'{result_folder}/{file_name}/df_peaks_{file_name}.csv')\n",
    "        \n",
    "        df_peaks_2 = pd.concat(df_peaks_data_2)\n",
    "        df_peaks_2.to_csv(f'{result_folder}/{file_name}/overvoltage_{file_name}.csv', index=False)\n",
    "        print(\"Overvoltage data saved successfully to\", f'{result_folder}/{file_name}/overvoltage_{file_name}.csv')\n",
    "        \n"
   ]
  },
  {
   "cell_type": "markdown",
   "id": "47e7bb0d",
   "metadata": {},
   "source": [
    "# Export the dQ/dV data to a CSV"
   ]
  },
  {
   "cell_type": "code",
   "execution_count": null,
   "id": "b1d86b9a",
   "metadata": {},
   "outputs": [],
   "source": [
    "        df_dqdv = pd.concat(df_dqdv_data, axis=1)\n",
    "        df_dqdv.to_csv(f'{result_folder}/{file_name}/df_dQdV_{file_name}_filtered.csv', index=False)\n",
    "        print(\"dQ/dV data saved successfully to\",f'{result_folder}/{file_name}/df_dQdV_{file_name}_filtered.csv')\n",
    "        \n"
   ]
  },
  {
   "cell_type": "markdown",
   "id": "db5a1568",
   "metadata": {},
   "source": [
    "# Convert to DataFrames and export"
   ]
  },
  {
   "cell_type": "code",
   "execution_count": null,
   "id": "fd6ede44",
   "metadata": {},
   "outputs": [],
   "source": [
    "        gaussian_df = pd.DataFrame(gaussian_results, columns=['Cycle ID', 'Status', 'Peak No', 'Amplitude', 'Mean', 'Sigma', 'Area'])\n"
   ]
  },
  {
   "cell_type": "markdown",
   "id": "01e77f15",
   "metadata": {},
   "source": [
    "# overvoltage_df = pd.DataFrame(overvoltage_data, columns=['Cycle ID', 'Peak No', 'Charge Voltage', 'Discharge Voltage', 'Overvoltage'])"
   ]
  },
  {
   "cell_type": "code",
   "execution_count": null,
   "id": "7958a750",
   "metadata": {},
   "outputs": [],
   "source": [
    "\n",
    "        gaussian_df.to_csv(f'{result_folder}/{file_name}/gaussian_fits_{file_name}.csv', index=False)\n",
    "        print(\"Gaussian fitting properties saved successfully to\",f'{result_folder}/{file_name}/gaussian_fits_{file_name}.csv')\n",
    "        \n"
   ]
  },
  {
   "cell_type": "markdown",
   "id": "83dbe2b9",
   "metadata": {},
   "source": [
    "# overvoltage_df.to_csv(f'{result_folder}/{file_name}/overvoltage_{file_name}.csv', index=False)\n",
    "# print(\"Overvoltage data saved successfully to\",f'{result_folder}/{file_name}/overvoltage_{file_name}.csv')"
   ]
  },
  {
   "cell_type": "code",
   "execution_count": null,
   "id": "7c45d3df",
   "metadata": {},
   "outputs": [],
   "source": [
    "    \n",
    "    return\n",
    "\n",
    "def DA06_Function_dQdV_Combined(result_folder,df_combined,interpolation_points,window_length,polyorder):\n",
    "    \n",
    "    return"
   ]
  },
  {
   "cell_type": "markdown",
   "id": "7b4dfc14",
   "metadata": {},
   "source": [
    "## Example Execution\n",
    "\n",
    "Let's demonstrate how to use the functions from this script with example data."
   ]
  },
  {
   "cell_type": "code",
   "execution_count": null,
   "id": "403d8e0c",
   "metadata": {},
   "outputs": [],
   "source": [
    "# Example usage\n",
    "# Replace with actual function calls and sample data when executing\n",
    "print('Running example execution...')"
   ]
  }
 ],
 "metadata": {
  "language_info": {
   "name": "python"
  }
 },
 "nbformat": 4,
 "nbformat_minor": 5
}
