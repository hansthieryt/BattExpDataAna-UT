{
 "cells": [
  {
   "cell_type": "markdown",
   "id": "78311441",
   "metadata": {},
   "source": [
    "# State of Health (SOH) Analysis\n",
    "\n",
    "This notebook demonstrates how to analyze the State of Health (SOH) of battery cells over multiple charge-discharge cycles."
   ]
  },
  {
   "cell_type": "markdown",
   "id": "76dc3bce",
   "metadata": {},
   "source": [
    "## DA04_Function_SOH\n",
    "\n",
    "Plots the estimated SOH across cycles based on maximum capacity."
   ]
  },
  {
   "cell_type": "code",
   "execution_count": null,
   "id": "d472f1dd",
   "metadata": {},
   "outputs": [],
   "source": [
    "\n",
    "import pandas as pd\n",
    "import matplotlib.pyplot as plt\n",
    "\n",
    "def DA04_Function_SOH(df_cycle_grouped, rated_capacity, file_name, result_folder):\n",
    "    cycles = df_cycle_grouped['Cycle ID'].unique()\n",
    "    max_capacity_per_cycle = df_cycle_grouped['Capacity'].max()\n",
    "    soh = (max_capacity_per_cycle / rated_capacity) * 100\n",
    "    \n",
    "    plt.figure(figsize=(10,6))\n",
    "    plt.plot(cycles, soh, marker='o')\n",
    "    plt.xlabel('Cycle Number')\n",
    "    plt.ylabel('State of Health (%)')\n",
    "    plt.title(f'State of Health (SOH) Over Cycles - {file_name}')\n",
    "    plt.grid(True)\n",
    "    plt.show()"
   ]
  }
 ],
 "metadata": {
  "kernelspec": {
   "display_name": "Python 3",
   "language": "python",
   "name": "python3"
  },
  "language_info": {
   "codemirror_mode": {
    "name": "ipython",
    "version": 3
   },
   "file_extension": ".py",
   "mimetype": "text/x-python",
   "name": "python",
   "nbconvert_exporter": "python",
   "pygments_lexer": "ipython3",
   "version": "3.12.4"
  }
 },
 "nbformat": 4,
 "nbformat_minor": 5
}
