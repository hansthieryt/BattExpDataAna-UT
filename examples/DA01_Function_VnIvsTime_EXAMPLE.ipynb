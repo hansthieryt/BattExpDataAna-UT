{
 "cells": [
  {
   "cell_type": "markdown",
   "id": "1d29a105",
   "metadata": {},
   "source": [
    "# DA01_Function_VnIvsTime\n",
    "\n",
    "This notebook demonstrates the execution of `DA01_Function_VnIvsTime.py`.\n",
    "\n",
    "We will go step by step through its functions, explaining their usage with examples."
   ]
  },
  {
   "cell_type": "markdown",
   "id": "cfefaa19",
   "metadata": {},
   "source": [
    "## Voltage (V) and Current (I) vs. Time"
   ]
  },
  {
   "cell_type": "markdown",
   "id": "6920996f",
   "metadata": {},
   "source": [
    "### Plot V and I to time for each cycles, legends on 2 y-axes for V and I respectively"
   ]
  },
  {
   "cell_type": "code",
   "execution_count": null,
   "id": "97730d8b",
   "metadata": {},
   "outputs": [],
   "source": [
    "\n",
    "    cycle_id = df_cycle_grouped.groups.keys()\n",
    "    \n",
    "    i = 0\n",
    "    for i in cycle_id:    \n",
    "        cycle_data = df_cycle_grouped.get_group(i)\n",
    "        fig, host = plt.subplots()\n",
    "        par1 = host.twinx()\n",
    "        p1, = host.plot(cycle_data['Cycle_Time'], cycle_data['Voltage'], \"b-\")\n",
    "        p2, = par1.plot(cycle_data['Cycle_Time'], cycle_data['Current'], \"r-\")\n",
    "        host.set_ylabel('Voltage (V)')\n",
    "        par1.set_ylabel('Current (mA)')\n",
    "        plt.title(f'Voltage and Current vs. Time - {file_name} - Cycle{i}')\n",
    "        plt.savefig(f'{result_folder}/{file_name}/VnCvsTime_{file_name}_Cycle{i}.png', dpi=300, bbox_inches='tight')\n",
    "        i += 1"
   ]
  },
  {
   "cell_type": "markdown",
   "id": "9fc527f6",
   "metadata": {},
   "source": [
    "![DA01_Example01](../images/DA01_Example01.png)"
   ]
  },
  {
   "cell_type": "markdown",
   "id": "e3c28726",
   "metadata": {},
   "source": [
    "### Plot all Cycles with colormap, different colors for each cycle, legends on 2 y-axes for V and I respectively"
   ]
  },
  {
   "cell_type": "code",
   "execution_count": null,
   "id": "0ac501b0",
   "metadata": {},
   "outputs": [],
   "source": [
    "    fig, host = plt.subplots()\n",
    "    par1 = host.twinx()  # Create the second y-axis\n",
    "    colors = cm.rainbow(np.linspace(0, 1, len(cycle_id)))\n",
    "\n",
    "    for i, cycle in enumerate(cycle_id):\n",
    "        cycle_data = df_cycle_grouped.get_group(cycle)\n",
    "        p1, = host.plot(cycle_data['Cycle_Time'], cycle_data['Voltage'], color=colors[i])#, label=f'Cycle {cycle} Voltage')\n",
    "        p2, = par1.plot(cycle_data['Cycle_Time'], cycle_data['Current'], color=colors[i], linestyle='--')#, label=f'Cycle {cycle} Current')\n",
    "    \n",
    "    host.set_xlabel('Cycle Time (s)')\n",
    "    host.set_ylabel('Voltage (V)')\n",
    "    par1.set_ylabel('Current (mA)')\n",
    "    plt.title(f'Voltage and Current vs. Cycle Time - All Cycles - {file_name}')\n",
    "    host.legend(loc='upper left')\n",
    "    par1.legend(loc='upper right')\n",
    "    plt.savefig(f\"{result_folder}/{file_name}/VnCvsTime_{file_name}_AllCycles.png\", dpi=300, bbox_inches='tight')\n",
    "    plt.show()"
   ]
  },
  {
   "cell_type": "markdown",
   "id": "6dbe87ff",
   "metadata": {},
   "source": [
    "![DA01_Example02](../images/DA01_Example02.png)"
   ]
  },
  {
   "cell_type": "markdown",
   "id": "6c3ebe3e",
   "metadata": {},
   "source": [
    "## Power"
   ]
  },
  {
   "cell_type": "code",
   "execution_count": null,
   "id": "e964b9cc",
   "metadata": {},
   "outputs": [],
   "source": [
    "    cycle_id = df_cycle_grouped.groups.keys()\n",
    "    \n",
    "    plt.figure(figsize=(10, 6))\n",
    "    i = 0\n",
    "    for i in cycle_id:    \n",
    "        cycle_data = df_cycle_grouped.get_group(i)\n",
    "        plt.plot(cycle_data['Cycle_Time'], cycle_data['Voltage']*cycle_data['Current'])\n",
    "        plt.ylabel('Voltage (V)')\n",
    "        plt.ylabel('Power (kW)')\n",
    "        plt.title(f'Power vs. Time - {file_name} - Cycle{i}')\n",
    "        plt.savefig(f'{result_folder}/{file_name}/PvsTime_{file_name}_Cycle{i}.png', dpi=300, bbox_inches='tight')\n",
    "        plt.show()\n",
    "        i += 1"
   ]
  },
  {
   "cell_type": "markdown",
   "id": "711e4d23",
   "metadata": {},
   "source": [
    "![DA01_Example03](../images/DA01_Example03.png)"
   ]
  },
  {
   "cell_type": "markdown",
   "id": "9bb94dce",
   "metadata": {},
   "source": [
    "### Plot all Cycles with colormap, different colors for each cycle"
   ]
  },
  {
   "cell_type": "code",
   "execution_count": null,
   "id": "86a9871c",
   "metadata": {},
   "outputs": [],
   "source": [
    "    colors = cm.rainbow(np.linspace(0, 1, len(cycle_id)))\n",
    "\n",
    "    for i, cycle in enumerate(cycle_id):\n",
    "        cycle_data = df_cycle_grouped.get_group(cycle)\n",
    "        plt.plot(cycle_data['Cycle_Time'], cycle_data['Voltage']*cycle_data['Current'], color=colors[i])\n",
    "   \n",
    "    plt.xlabel('Cycle Time (s)')\n",
    "    plt.ylabel('Power (kW)')\n",
    "    plt.title(f'Power vs. Cycle Time - All Cycles - {file_name}')\n",
    "    plt.savefig(f\"{result_folder}/{file_name}/PvsTime_{file_name}_AllCycles.png\", dpi=300, bbox_inches='tight')\n",
    "    plt.show()"
   ]
  },
  {
   "cell_type": "markdown",
   "id": "151d9a16",
   "metadata": {},
   "source": [
    "![DA01_Example04](../images/DA01_Example04.png)"
   ]
  }
 ],
 "metadata": {
  "language_info": {
   "name": "python"
  }
 },
 "nbformat": 4,
 "nbformat_minor": 5
}
