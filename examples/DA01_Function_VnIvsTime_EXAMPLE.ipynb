{
 "cells": [
  {
   "cell_type": "markdown",
   "id": "1d29a105",
   "metadata": {},
   "source": [
    "# DA01_Function_VnIvsTime\n",
    "\n",
    "This notebook demonstrates the execution of `DA01_Function_VnIvsTime.py`.\n",
    "\n",
    "We will go step by step through its functions, explaining their usage with examples."
   ]
  },
  {
   "cell_type": "markdown",
   "id": "6b6c7f65",
   "metadata": {},
   "source": [
    "-*- coding: utf-8 -*-"
   ]
  },
  {
   "cell_type": "markdown",
   "id": "5e89ce72",
   "metadata": {},
   "source": [
    "\n"
   ]
  },
  {
   "cell_type": "code",
   "execution_count": null,
   "id": "cc0d8e79",
   "metadata": {},
   "outputs": [],
   "source": [
    "Code for automated data preprocessing\n",
    "Import\n",
    "Sorting data\n",
    "    - Group by cycle\n",
    "    - 1. VvsCap / CC-Ch and CV-Ch combined and separeted from CC-Dch\n",
    "    - 2. CapvsCyc incl. CE\n",
    "    - 3. dqdVvsV \n",
    "    - 4. Curvst in CV steps\n",
    "Export\n",
    "\n",
    "\n",
    "Code Structure:\n",
    "1. Main\n",
    "2. DA00: Data Import, Dataframe creation, grouping\n",
    "    3. DA01: Plot & analysis of Voltage and Current to Time\n",
    "4. DA02: Plot & analysis of Voltage to Capacity (Potential Profile)\n",
    "5. DA03: Plot & analysis of Coulombic Efficiency\n",
    "6. DA04: Plot & analysis SOH over cycles\n",
    "7. DA05: Analysis of Statistical Summary\n",
    "8. DA06: Plot & analysis of dQ/dV to Voltage\n",
    "\n",
    "== Part of DA ==\n",
    "- Function code for Plot & analysis of Voltage and Current to Time\n",
    "\n",
    "\n",
    "Authors: Hans and Matthias\n",
    "\n"
   ]
  },
  {
   "cell_type": "markdown",
   "id": "d634015a",
   "metadata": {},
   "source": [
    "\n"
   ]
  },
  {
   "cell_type": "code",
   "execution_count": null,
   "id": "ba4483a2",
   "metadata": {},
   "outputs": [],
   "source": [
    "import matplotlib.pyplot as plt\n",
    "import matplotlib.cm as cm\n",
    "import numpy as np\n",
    "\n"
   ]
  },
  {
   "cell_type": "markdown",
   "id": "cff7bf31",
   "metadata": {},
   "source": [
    "-----------------------------------VnIvsTime----------------------------------"
   ]
  },
  {
   "cell_type": "code",
   "execution_count": null,
   "id": "97730d8b",
   "metadata": {},
   "outputs": [],
   "source": [
    "\n",
    "def DA01_Function_VnIvsTime(result_folder,file_name,df_cycle_grouped):\n",
    "    cycle_id = df_cycle_grouped.groups.keys()\n",
    "    \n",
    "    i = 0\n",
    "    for i in cycle_id:    \n",
    "        cycle_data = df_cycle_grouped.get_group(i)\n",
    "        fig, host = plt.subplots()\n",
    "        par1 = host.twinx()\n",
    "\n"
   ]
  },
  {
   "cell_type": "markdown",
   "id": "690c9351",
   "metadata": {},
   "source": [
    "# Insert the data for overview plot"
   ]
  },
  {
   "cell_type": "code",
   "execution_count": null,
   "id": "2e6f13ed",
   "metadata": {},
   "outputs": [],
   "source": [
    "        p1, = host.plot(cycle_data['Cycle_Time'], cycle_data['Voltage'], \"b-\")\n",
    "        p2, = par1.plot(cycle_data['Cycle_Time'], cycle_data['Current'], \"r-\")\n",
    "        host.set_ylabel('Voltage (V)')\n",
    "        par1.set_ylabel('Current (mA)')\n",
    "        plt.title(f'Voltage and Current vs. Time - {file_name} - Cycle{i}')\n",
    "        plt.savefig(f'{result_folder}/{file_name}/VnCvsTime_{file_name}_Cycle{i}.png', dpi=300, bbox_inches='tight')\n",
    "        i += 1\n",
    "        \n"
   ]
  },
  {
   "cell_type": "markdown",
   "id": "e3c28726",
   "metadata": {},
   "source": [
    "#-----------------------------------All cycles-----------------------------"
   ]
  },
  {
   "cell_type": "code",
   "execution_count": null,
   "id": "0ac501b0",
   "metadata": {},
   "outputs": [],
   "source": [
    "    fig, host = plt.subplots()\n",
    "    par1 = host.twinx()  # Create the second y-axis\n",
    "\n"
   ]
  },
  {
   "cell_type": "markdown",
   "id": "dc709ef4",
   "metadata": {},
   "source": [
    "# Get a colormap with enough colors for all cycles"
   ]
  },
  {
   "cell_type": "code",
   "execution_count": null,
   "id": "420479cf",
   "metadata": {},
   "outputs": [],
   "source": [
    "    colors = cm.rainbow(np.linspace(0, 1, len(cycle_id)))\n",
    "\n",
    "    for i, cycle in enumerate(cycle_id):\n",
    "        cycle_data = df_cycle_grouped.get_group(cycle)\n",
    "        \n"
   ]
  },
  {
   "cell_type": "markdown",
   "id": "889c3548",
   "metadata": {},
   "source": [
    "# Plot each cycle with a different color"
   ]
  },
  {
   "cell_type": "code",
   "execution_count": null,
   "id": "14a88dae",
   "metadata": {},
   "outputs": [],
   "source": [
    "        p1, = host.plot(cycle_data['Cycle_Time'], cycle_data['Voltage'], color=colors[i])#, label=f'Cycle {cycle} Voltage')\n",
    "        p2, = par1.plot(cycle_data['Cycle_Time'], cycle_data['Current'], color=colors[i], linestyle='--')#, label=f'Cycle {cycle} Current')\n",
    "    \n"
   ]
  },
  {
   "cell_type": "markdown",
   "id": "1dd7a38e",
   "metadata": {},
   "source": [
    "# Set labels and titles"
   ]
  },
  {
   "cell_type": "code",
   "execution_count": null,
   "id": "3828da11",
   "metadata": {},
   "outputs": [],
   "source": [
    "    host.set_xlabel('Cycle Time (s)')\n",
    "    host.set_ylabel('Voltage (V)')\n",
    "    par1.set_ylabel('Current (mA)')\n",
    "    plt.title(f'Voltage and Current vs. Cycle Time - All Cycles - {file_name}')\n",
    "\n"
   ]
  },
  {
   "cell_type": "markdown",
   "id": "5a5699ce",
   "metadata": {},
   "source": [
    "# Create a legend that combines both axes"
   ]
  },
  {
   "cell_type": "code",
   "execution_count": null,
   "id": "3a1d8fa8",
   "metadata": {},
   "outputs": [],
   "source": [
    "    host.legend(loc='upper left')\n",
    "    par1.legend(loc='upper right')\n",
    "\n"
   ]
  },
  {
   "cell_type": "markdown",
   "id": "8053bc73",
   "metadata": {},
   "source": [
    "# Save the combined plot"
   ]
  },
  {
   "cell_type": "code",
   "execution_count": null,
   "id": "12fe83f5",
   "metadata": {},
   "outputs": [],
   "source": [
    "    plt.savefig(f\"{result_folder}/{file_name}/VnCvsTime_{file_name}_AllCycles.png\", dpi=300, bbox_inches='tight')\n",
    "    plt.show()\n",
    "\n",
    "    return\n",
    "\n",
    "\n",
    "def DA01_Function_VnIvsTime_Combined(combined_result_folder,df_combined):\n"
   ]
  },
  {
   "cell_type": "markdown",
   "id": "61b177ba",
   "metadata": {},
   "source": [
    "# cycle_id = df_combined.groups.keys()"
   ]
  },
  {
   "cell_type": "code",
   "execution_count": null,
   "id": "6964cd4a",
   "metadata": {},
   "outputs": [],
   "source": [
    "    \n",
    "    fig, host = plt.subplots()\n",
    "    par1 = host.twinx()  # Create the second y-axis\n",
    "     \n"
   ]
  },
  {
   "cell_type": "markdown",
   "id": "58e3a62b",
   "metadata": {},
   "source": [
    "# Plot each cycle with a different color"
   ]
  },
  {
   "cell_type": "code",
   "execution_count": null,
   "id": "ad34a454",
   "metadata": {},
   "outputs": [],
   "source": [
    "    p1, = host.plot(df_combined['Cycle_Time'], df_combined['Voltage'])#, label=f'Cycle {cycle} Voltage')\n",
    "    p2, = par1.plot(df_combined['Cycle_Time'], df_combined['Current'], linestyle='--')#, label=f'Cycle {cycle} Current')\n",
    "    \n"
   ]
  },
  {
   "cell_type": "markdown",
   "id": "d93899f1",
   "metadata": {},
   "source": [
    "# Set labels and titles"
   ]
  },
  {
   "cell_type": "code",
   "execution_count": null,
   "id": "efe1f11e",
   "metadata": {},
   "outputs": [],
   "source": [
    "    host.set_xlabel('Cycle Time (s)')\n",
    "    host.set_ylabel('Voltage (V)')\n",
    "    par1.set_ylabel('Current (mA)')\n",
    "    plt.title('Voltage and Current vs. Cycle Time - Combined')\n",
    "\n"
   ]
  },
  {
   "cell_type": "markdown",
   "id": "fc11b499",
   "metadata": {},
   "source": [
    "# Create a legend that combines both axes"
   ]
  },
  {
   "cell_type": "code",
   "execution_count": null,
   "id": "5ca0999a",
   "metadata": {},
   "outputs": [],
   "source": [
    "    host.legend(loc='upper left')\n",
    "    par1.legend(loc='upper right')\n",
    "\n"
   ]
  },
  {
   "cell_type": "markdown",
   "id": "8edfc9c9",
   "metadata": {},
   "source": [
    "# Save the combined plot"
   ]
  },
  {
   "cell_type": "code",
   "execution_count": null,
   "id": "cc35816a",
   "metadata": {},
   "outputs": [],
   "source": [
    "    plt.savefig(f\"{combined_result_folder}/VnCvsTime_Combined.png\", dpi=300, bbox_inches='tight')\n",
    "    plt.show()\n",
    "\n",
    "    return\n",
    "\n"
   ]
  },
  {
   "cell_type": "markdown",
   "id": "6c3ebe3e",
   "metadata": {},
   "source": [
    "-----------------------------------Power----------------------------------"
   ]
  },
  {
   "cell_type": "code",
   "execution_count": null,
   "id": "e964b9cc",
   "metadata": {},
   "outputs": [],
   "source": [
    "\n",
    "def DA01_Function_Power(result_folder,file_name,df_cycle_grouped):\n",
    "    cycle_id = df_cycle_grouped.groups.keys()\n",
    "    \n",
    "    plt.figure(figsize=(10, 6))\n",
    "    i = 0\n",
    "    for i in cycle_id:    \n",
    "        cycle_data = df_cycle_grouped.get_group(i)\n",
    "\n"
   ]
  },
  {
   "cell_type": "markdown",
   "id": "4a8fb813",
   "metadata": {},
   "source": [
    "# Insert the data for overview plot"
   ]
  },
  {
   "cell_type": "code",
   "execution_count": null,
   "id": "cf2ad90b",
   "metadata": {},
   "outputs": [],
   "source": [
    "        plt.plot(cycle_data['Cycle_Time'], cycle_data['Voltage']*cycle_data['Current'])\n",
    "        plt.ylabel('Voltage (V)')\n",
    "        plt.ylabel('Power (kW)')\n",
    "        plt.title(f'Power vs. Time - {file_name} - Cycle{i}')\n",
    "        plt.savefig(f'{result_folder}/{file_name}/PvsTime_{file_name}_Cycle{i}.png', dpi=300, bbox_inches='tight')\n",
    "        plt.show()\n",
    "        i += 1\n",
    "        \n"
   ]
  },
  {
   "cell_type": "markdown",
   "id": "9bb94dce",
   "metadata": {},
   "source": [
    "#-----------------------------------All cycles-----------------------------\n",
    "# Get a colormap with enough colors for all cycles"
   ]
  },
  {
   "cell_type": "code",
   "execution_count": null,
   "id": "86a9871c",
   "metadata": {},
   "outputs": [],
   "source": [
    "    colors = cm.rainbow(np.linspace(0, 1, len(cycle_id)))\n",
    "\n",
    "    for i, cycle in enumerate(cycle_id):\n",
    "        cycle_data = df_cycle_grouped.get_group(cycle)\n",
    "        \n"
   ]
  },
  {
   "cell_type": "markdown",
   "id": "79d1f3c3",
   "metadata": {},
   "source": [
    "# Plot each cycle with a different color"
   ]
  },
  {
   "cell_type": "code",
   "execution_count": null,
   "id": "122b41b2",
   "metadata": {},
   "outputs": [],
   "source": [
    "        plt.plot(cycle_data['Cycle_Time'], cycle_data['Voltage']*cycle_data['Current'], color=colors[i])\n",
    "    \n"
   ]
  },
  {
   "cell_type": "markdown",
   "id": "464cd699",
   "metadata": {},
   "source": [
    "# Set labels and titles"
   ]
  },
  {
   "cell_type": "code",
   "execution_count": null,
   "id": "22cb046a",
   "metadata": {},
   "outputs": [],
   "source": [
    "    plt.xlabel('Cycle Time (s)')\n",
    "    plt.ylabel('Power (kW)')\n",
    "    plt.title(f'Power vs. Cycle Time - All Cycles - {file_name}')\n",
    "    plt.savefig(f\"{result_folder}/{file_name}/PvsTime_{file_name}_AllCycles.png\", dpi=300, bbox_inches='tight')\n",
    "    plt.show()\n",
    "\n",
    "    return"
   ]
  },
  {
   "cell_type": "markdown",
   "id": "e9267dda",
   "metadata": {},
   "source": [
    "## Example Execution\n",
    "\n",
    "Let's demonstrate how to use the functions from this script with example data."
   ]
  },
  {
   "cell_type": "code",
   "execution_count": null,
   "id": "ce904b06",
   "metadata": {},
   "outputs": [],
   "source": [
    "# Example usage\n",
    "# Replace with actual function calls and sample data when executing\n",
    "print('Running example execution...')"
   ]
  }
 ],
 "metadata": {},
 "nbformat": 4,
 "nbformat_minor": 5
}
