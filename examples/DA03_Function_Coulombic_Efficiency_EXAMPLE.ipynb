{
 "cells": [
  {
   "cell_type": "markdown",
   "id": "d0a245cb",
   "metadata": {},
   "source": [
    "# DA03_Function_Coulombic_Efficiency\n",
    "\n",
    "This notebook demonstrates the execution of `DA03_Function_Coulombic_Efficiency.py`.\n",
    "\n",
    "We will go step by step through its functions, explaining their usage with examples."
   ]
  },
  {
   "cell_type": "markdown",
   "id": "a85353a8",
   "metadata": {},
   "source": [
    "-*- coding: utf-8 -*-"
   ]
  },
  {
   "cell_type": "markdown",
   "id": "f1c73b9f",
   "metadata": {},
   "source": [
    "\n"
   ]
  },
  {
   "cell_type": "code",
   "execution_count": null,
   "id": "7ad11f69",
   "metadata": {},
   "outputs": [],
   "source": [
    "Code for automated data preprocessing\n",
    "Import\n",
    "Sorting data\n",
    "    - Group by cycle\n",
    "    - 1. VvsCap / CC-Ch and CV-Ch combined and separeted from CC-Dch\n",
    "    - 2. CapvsCyc incl. CE\n",
    "    - 3. dqdVvsV \n",
    "    - 4. Curvst in CV steps\n",
    "Export\n",
    "\n",
    "\n",
    "Code Structure:\n",
    "1. Main\n",
    "2. DA00: Data Import, Dataframe creation, grouping\n",
    "3. DA01: Plot & analysis of Voltage and Current to Time\n",
    "4. DA02: Plot & analysis of Voltage to Capacity (Potential Profile)\n",
    "    5. DA03: Plot & analysis of Coulombic Efficiency\n",
    "6. DA04: Plot & analysis SOH over cycles\n",
    "7. DA05: Analysis of Statistical Summary\n",
    "8. DA06: Plot & analysis of dQ/dV to Voltage\n",
    "\n",
    "== Part of DA ==\n",
    "- Function code for Plot & analysis of Coulombic Efficiency (CE)\n",
    "\n",
    "\n",
    "Authors: Hans and Matthias\n",
    "\n"
   ]
  },
  {
   "cell_type": "markdown",
   "id": "beed97fb",
   "metadata": {},
   "source": [
    "\n"
   ]
  },
  {
   "cell_type": "code",
   "execution_count": null,
   "id": "db98314f",
   "metadata": {},
   "outputs": [],
   "source": [
    "\n",
    "import pandas as pd\n",
    "import matplotlib.pyplot as plt\n",
    "import re\n",
    "\n"
   ]
  },
  {
   "cell_type": "markdown",
   "id": "6e93da30",
   "metadata": {},
   "source": [
    "--------------------------------CE over cycles--------------------------------\n",
    "Plot SOH estimation along the cycles"
   ]
  },
  {
   "cell_type": "code",
   "execution_count": null,
   "id": "36998230",
   "metadata": {},
   "outputs": [],
   "source": [
    "\n",
    "def DA03_Function_Coulombic_Efficiency(df_VQ_grouped,file_name,result_folder):   \n",
    "    ce_cycle = []\n",
    "    \n"
   ]
  },
  {
   "cell_type": "markdown",
   "id": "c1c6ad9c",
   "metadata": {},
   "source": [
    "# Extract unique cycle numbers from the column names"
   ]
  },
  {
   "cell_type": "code",
   "execution_count": null,
   "id": "29af0fae",
   "metadata": {},
   "outputs": [],
   "source": [
    "    cycle_columns = [col for col in df_VQ_grouped.columns if re.match(r'Cycle_\\d+_', col)]\n",
    "    cycle_numbers = sorted({int(re.search(r'Cycle_(\\d+)_', col).group(1)) for col in cycle_columns})\n",
    "\n",
    "    for cycle_id in cycle_numbers:\n",
    "        plt.figure(figsize=(10, 6))\n",
    "        \n",
    "        cchg = df_VQ_grouped[f'Cycle_{cycle_id}_CapChg'].dropna()\n",
    "        cdchg = df_VQ_grouped[f'Cycle_{cycle_id}_CapDChg'].dropna()\n",
    "        \n"
   ]
  },
  {
   "cell_type": "markdown",
   "id": "fd0141ac",
   "metadata": {},
   "source": [
    "# Calculate Coulombic Efficiency (CE)"
   ]
  },
  {
   "cell_type": "code",
   "execution_count": null,
   "id": "c10216b7",
   "metadata": {},
   "outputs": [],
   "source": [
    "        total_CapChg = cchg.iloc[-1] if not cchg.empty else 0\n",
    "        total_CapDChg = cdchg.iloc[-1] if not cdchg.empty else 0\n",
    "        ce = (total_CapDChg / total_CapChg) * 100 if total_CapChg > 0 else 0\n",
    "        \n"
   ]
  },
  {
   "cell_type": "markdown",
   "id": "662b7a12",
   "metadata": {},
   "source": [
    "# Combine into a DataFrame"
   ]
  },
  {
   "cell_type": "code",
   "execution_count": null,
   "id": "2a20d5e8",
   "metadata": {},
   "outputs": [],
   "source": [
    "        ce_cycle.append({\n",
    "            'Cycle_ID': cycle_id,\n",
    "            'Discharge_Capacity': total_CapDChg,\n",
    "            'Charge_Capacity': total_CapChg,\n",
    "            'Coulombic_Efficiency': ce,\n",
    "            })\n",
    "               \n"
   ]
  },
  {
   "cell_type": "markdown",
   "id": "079ae74f",
   "metadata": {},
   "source": [
    "# Create a DataFrame for Coulombic Efficiencies and save the result"
   ]
  },
  {
   "cell_type": "code",
   "execution_count": null,
   "id": "30327087",
   "metadata": {},
   "outputs": [],
   "source": [
    "    df_ce = pd.DataFrame(ce_cycle)\n",
    "    df_ce.to_csv(f'{result_folder}/{file_name}/df_CE_{file_name}.csv', index=False)\n"
   ]
  },
  {
   "cell_type": "markdown",
   "id": "1a42be22",
   "metadata": {},
   "source": [
    "# print(df_ce)"
   ]
  },
  {
   "cell_type": "code",
   "execution_count": null,
   "id": "31c94538",
   "metadata": {},
   "outputs": [],
   "source": [
    "    \n",
    "    fig, ax1 = plt.subplots(figsize=(10, 6))\n",
    "\n",
    "    color = 'tab:blue'\n",
    "    ax1.set_xlabel('Cycle ID')\n",
    "    ax1.set_ylabel('Coulombic Efficiency (%)', color=color)\n",
    "    ax1.plot(df_ce['Cycle_ID'], df_ce['Coulombic_Efficiency'], color=color, \n",
    "             marker='o', label='Coulombic Efficiency')\n",
    "    ax1.tick_params(axis='y', labelcolor=color)\n",
    "    plt.ylim(0, 250)\n",
    "\n",
    "    ax2 = ax1.twinx()\n",
    "    color = 'tab:red'\n",
    "    ax2.set_ylabel('Capacity (mAh)', color=color)\n",
    "    ax2.plot(df_ce['Cycle_ID'], df_ce['Charge_Capacity'], color='tab:green', \n",
    "             marker='x', linestyle='-', label='Charge Capacity')\n",
    "    ax2.plot(df_ce['Cycle_ID'], df_ce['Discharge_Capacity'], color=color, \n",
    "             marker='x', linestyle='--', label='Discharge Capacity')\n",
    "    ax2.tick_params(axis='y', labelcolor=color)\n",
    "\n",
    "    fig.tight_layout()\n",
    "    fig.legend(loc='upper left', bbox_to_anchor=(0.1,0.9))\n",
    "    plt.title(f'Coulombic Efficiency and Capacity vs Cycle - {file_name}')\n",
    "    plt.grid(True)\n",
    "    plt.savefig(f'{result_folder}/{file_name}/CE-cycles_{file_name}.png', dpi=300)\n",
    "    plt.close()\n",
    "    \n",
    "    return \n",
    "    \n"
   ]
  },
  {
   "cell_type": "markdown",
   "id": "2248e248",
   "metadata": {},
   "source": [
    "## Example Execution\n",
    "\n",
    "Let's demonstrate how to use the functions from this script with example data."
   ]
  },
  {
   "cell_type": "code",
   "execution_count": null,
   "id": "058e8c33",
   "metadata": {},
   "outputs": [],
   "source": [
    "# Example usage\n",
    "# Replace with actual function calls and sample data when executing\n",
    "print('Running example execution...')"
   ]
  }
 ],
 "metadata": {},
 "nbformat": 4,
 "nbformat_minor": 5
}
