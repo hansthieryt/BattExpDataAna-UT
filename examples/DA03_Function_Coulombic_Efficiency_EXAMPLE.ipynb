{
 "cells": [
  {
   "cell_type": "markdown",
   "id": "d0a245cb",
   "metadata": {},
   "source": [
    "# DA03_Function_Coulombic_Efficiency\n",
    "\n",
    "This notebook demonstrates the execution of `DA03_Function_Coulombic_Efficiency.py`. We will go step by step through its functions, explaining their usage with examples."
   ]
  },
  {
   "cell_type": "markdown",
   "id": "f1c73b9f",
   "metadata": {},
   "source": [
    "## Coulombic Efficiency\n"
   ]
  },
  {
   "cell_type": "markdown",
   "id": "fd0141ac",
   "metadata": {},
   "source": [
    "### Calculate Coulombic Efficiency (CE)"
   ]
  },
  {
   "cell_type": "code",
   "execution_count": null,
   "id": "36998230",
   "metadata": {},
   "outputs": [],
   "source": [
    "\n",
    "    ce_cycle = []\n",
    "    cycle_columns = [col for col in df_VQ_grouped.columns if re.match(r'Cycle_\\d+_', col)]\n",
    "    cycle_numbers = sorted({int(re.search(r'Cycle_(\\d+)_', col).group(1)) for col in cycle_columns})\n",
    "\n",
    "    for cycle_id in cycle_numbers:\n",
    "        plt.figure(figsize=(10, 6))\n",
    "        \n",
    "        cchg = df_VQ_grouped[f'Cycle_{cycle_id}_CapChg'].dropna()\n",
    "        cdchg = df_VQ_grouped[f'Cycle_{cycle_id}_CapDChg'].dropna()\n",
    "        total_CapChg = cchg.iloc[-1] if not cchg.empty else 0\n",
    "        total_CapDChg = cdchg.iloc[-1] if not cdchg.empty else 0\n",
    "        ce = (total_CapDChg / total_CapChg) * 100 if total_CapChg > 0 else 0\n"
   ]
  },
  {
   "cell_type": "markdown",
   "id": "662b7a12",
   "metadata": {},
   "source": [
    "### Combine into a DataFrame & export result to csv file"
   ]
  },
  {
   "cell_type": "code",
   "execution_count": null,
   "id": "2a20d5e8",
   "metadata": {},
   "outputs": [],
   "source": [
    "        ce_cycle.append({\n",
    "            'Cycle_ID': cycle_id,\n",
    "            'Discharge_Capacity': total_CapDChg,\n",
    "            'Charge_Capacity': total_CapChg,\n",
    "            'Coulombic_Efficiency': ce,\n",
    "            })\n",
    "\n",
    "    df_ce = pd.DataFrame(ce_cycle)\n",
    "    df_ce.to_csv(f'{result_folder}/{file_name}/df_CE_{file_name}.csv', index=False)        \n",
    "    print(df_ce)"
   ]
  },
  {
   "cell_type": "markdown",
   "id": "aa4a99d3",
   "metadata": {},
   "source": [
    "### Plot CE to cycles"
   ]
  },
  {
   "cell_type": "code",
   "execution_count": null,
   "id": "31c94538",
   "metadata": {},
   "outputs": [],
   "source": [
    "    \n",
    "    fig, ax1 = plt.subplots(figsize=(10, 6))\n",
    "\n",
    "    color = 'tab:blue'\n",
    "    ax1.set_xlabel('Cycle ID')\n",
    "    ax1.set_ylabel('Coulombic Efficiency (%)', color=color)\n",
    "    ax1.plot(df_ce['Cycle_ID'], df_ce['Coulombic_Efficiency'], color=color, \n",
    "             marker='o', label='Coulombic Efficiency')\n",
    "    ax1.tick_params(axis='y', labelcolor=color)\n",
    "    plt.ylim(0, 250)\n",
    "\n",
    "    ax2 = ax1.twinx()\n",
    "    color = 'tab:red'\n",
    "    ax2.set_ylabel('Capacity (mAh)', color=color)\n",
    "    ax2.plot(df_ce['Cycle_ID'], df_ce['Charge_Capacity'], color='tab:green', \n",
    "             marker='x', linestyle='-', label='Charge Capacity')\n",
    "    ax2.plot(df_ce['Cycle_ID'], df_ce['Discharge_Capacity'], color=color, \n",
    "             marker='x', linestyle='--', label='Discharge Capacity')\n",
    "    ax2.tick_params(axis='y', labelcolor=color)\n",
    "\n",
    "    fig.tight_layout()\n",
    "    fig.legend(loc='upper left', bbox_to_anchor=(0.1,0.9))\n",
    "    plt.title(f'Coulombic Efficiency and Capacity vs Cycle - {file_name}')\n",
    "    plt.grid(True)\n",
    "    plt.savefig(f'{result_folder}/{file_name}/CE-cycles_{file_name}.png', dpi=300)\n",
    "    plt.close()\n",
    "    \n",
    "    return \n",
    "    \n"
   ]
  }
 ],
 "metadata": {
  "language_info": {
   "name": "python"
  }
 },
 "nbformat": 4,
 "nbformat_minor": 5
}
